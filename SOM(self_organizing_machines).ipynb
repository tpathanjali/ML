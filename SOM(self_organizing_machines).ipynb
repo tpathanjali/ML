{
  "nbformat": 4,
  "nbformat_minor": 0,
  "metadata": {
    "colab": {
      "name": "SOM(self organizing machines).ipynb",
      "version": "0.3.2",
      "provenance": [],
      "include_colab_link": true
    },
    "kernelspec": {
      "name": "python3",
      "display_name": "Python 3"
    },
    "accelerator": "GPU"
  },
  "cells": [
    {
      "cell_type": "markdown",
      "metadata": {
        "id": "view-in-github",
        "colab_type": "text"
      },
      "source": [
        "<a href=\"https://colab.research.google.com/github/tpathanjali/ML/blob/master/SOM(self_organizing_machines).ipynb\" target=\"_parent\"><img src=\"https://colab.research.google.com/assets/colab-badge.svg\" alt=\"Open In Colab\"/></a>"
      ]
    },
    {
      "metadata": {
        "id": "h1PwYdsLGaSI",
        "colab_type": "code",
        "colab": {}
      },
      "cell_type": "code",
      "source": [
        "!pip install -U -q sklearn\n",
        "!pip install -U -q PyDrive"
      ],
      "execution_count": 0,
      "outputs": []
    },
    {
      "metadata": {
        "id": "pFRaCh4JGhVf",
        "colab_type": "code",
        "colab": {}
      },
      "cell_type": "code",
      "source": [
        "from pydrive.auth import GoogleAuth\n",
        "from pydrive.drive import GoogleDrive\n",
        "from google.colab import auth\n",
        "from oauth2client.client import GoogleCredentials\n",
        "\n",
        "# Authenticate and create the PyDrive client.\n",
        "# This only needs to be done once per notebook.\n",
        "auth.authenticate_user()\n",
        "gauth = GoogleAuth()\n",
        "gauth.credentials = GoogleCredentials.get_application_default()\n",
        "drive = GoogleDrive(gauth)"
      ],
      "execution_count": 0,
      "outputs": []
    },
    {
      "metadata": {
        "id": "TNHQiQcxGomw",
        "colab_type": "code",
        "colab": {}
      },
      "cell_type": "code",
      "source": [
        "file_id='1vD-8kH_GDYqfVipSjmyJfx-6SreUKoTa'\n",
        "downloaded = drive.CreateFile({'id': file_id})\n",
        "downloaded.GetContentFile('df.csv')\n"
      ],
      "execution_count": 0,
      "outputs": []
    },
    {
      "metadata": {
        "id": "N15ZtCIRHQMJ",
        "colab_type": "code",
        "colab": {}
      },
      "cell_type": "code",
      "source": [
        "import sklearn as sklearn\n",
        "import pandas as pd\n",
        "import matplotlib.pyplot as plt\n",
        "import numpy as np"
      ],
      "execution_count": 0,
      "outputs": []
    },
    {
      "metadata": {
        "id": "oL61jFjvHcaV",
        "colab_type": "code",
        "colab": {}
      },
      "cell_type": "code",
      "source": [
        "dataset=pd.read_csv('df.csv')"
      ],
      "execution_count": 0,
      "outputs": []
    },
    {
      "metadata": {
        "id": "FSTkrOwrHs1s",
        "colab_type": "code",
        "outputId": "ad2e7ece-df21-4635-94cf-ca7357c7cbb0",
        "colab": {
          "base_uri": "https://localhost:8080/",
          "height": 351
        }
      },
      "cell_type": "code",
      "source": [
        "dataset.head(10)"
      ],
      "execution_count": 0,
      "outputs": [
        {
          "output_type": "execute_result",
          "data": {
            "text/html": [
              "<div>\n",
              "<style scoped>\n",
              "    .dataframe tbody tr th:only-of-type {\n",
              "        vertical-align: middle;\n",
              "    }\n",
              "\n",
              "    .dataframe tbody tr th {\n",
              "        vertical-align: top;\n",
              "    }\n",
              "\n",
              "    .dataframe thead th {\n",
              "        text-align: right;\n",
              "    }\n",
              "</style>\n",
              "<table border=\"1\" class=\"dataframe\">\n",
              "  <thead>\n",
              "    <tr style=\"text-align: right;\">\n",
              "      <th></th>\n",
              "      <th>CustomerID</th>\n",
              "      <th>A1</th>\n",
              "      <th>A2</th>\n",
              "      <th>A3</th>\n",
              "      <th>A4</th>\n",
              "      <th>A5</th>\n",
              "      <th>A6</th>\n",
              "      <th>A7</th>\n",
              "      <th>A8</th>\n",
              "      <th>A9</th>\n",
              "      <th>A10</th>\n",
              "      <th>A11</th>\n",
              "      <th>A12</th>\n",
              "      <th>A13</th>\n",
              "      <th>A14</th>\n",
              "      <th>Class</th>\n",
              "    </tr>\n",
              "  </thead>\n",
              "  <tbody>\n",
              "    <tr>\n",
              "      <th>0</th>\n",
              "      <td>15776156</td>\n",
              "      <td>1</td>\n",
              "      <td>22.08</td>\n",
              "      <td>11.460</td>\n",
              "      <td>2</td>\n",
              "      <td>4</td>\n",
              "      <td>4</td>\n",
              "      <td>1.585</td>\n",
              "      <td>0</td>\n",
              "      <td>0</td>\n",
              "      <td>0</td>\n",
              "      <td>1</td>\n",
              "      <td>2</td>\n",
              "      <td>100</td>\n",
              "      <td>1213</td>\n",
              "      <td>0</td>\n",
              "    </tr>\n",
              "    <tr>\n",
              "      <th>1</th>\n",
              "      <td>15739548</td>\n",
              "      <td>0</td>\n",
              "      <td>22.67</td>\n",
              "      <td>7.000</td>\n",
              "      <td>2</td>\n",
              "      <td>8</td>\n",
              "      <td>4</td>\n",
              "      <td>0.165</td>\n",
              "      <td>0</td>\n",
              "      <td>0</td>\n",
              "      <td>0</td>\n",
              "      <td>0</td>\n",
              "      <td>2</td>\n",
              "      <td>160</td>\n",
              "      <td>1</td>\n",
              "      <td>0</td>\n",
              "    </tr>\n",
              "    <tr>\n",
              "      <th>2</th>\n",
              "      <td>15662854</td>\n",
              "      <td>0</td>\n",
              "      <td>29.58</td>\n",
              "      <td>1.750</td>\n",
              "      <td>1</td>\n",
              "      <td>4</td>\n",
              "      <td>4</td>\n",
              "      <td>1.250</td>\n",
              "      <td>0</td>\n",
              "      <td>0</td>\n",
              "      <td>0</td>\n",
              "      <td>1</td>\n",
              "      <td>2</td>\n",
              "      <td>280</td>\n",
              "      <td>1</td>\n",
              "      <td>0</td>\n",
              "    </tr>\n",
              "    <tr>\n",
              "      <th>3</th>\n",
              "      <td>15687688</td>\n",
              "      <td>0</td>\n",
              "      <td>21.67</td>\n",
              "      <td>11.500</td>\n",
              "      <td>1</td>\n",
              "      <td>5</td>\n",
              "      <td>3</td>\n",
              "      <td>0.000</td>\n",
              "      <td>1</td>\n",
              "      <td>1</td>\n",
              "      <td>11</td>\n",
              "      <td>1</td>\n",
              "      <td>2</td>\n",
              "      <td>0</td>\n",
              "      <td>1</td>\n",
              "      <td>1</td>\n",
              "    </tr>\n",
              "    <tr>\n",
              "      <th>4</th>\n",
              "      <td>15715750</td>\n",
              "      <td>1</td>\n",
              "      <td>20.17</td>\n",
              "      <td>8.170</td>\n",
              "      <td>2</td>\n",
              "      <td>6</td>\n",
              "      <td>4</td>\n",
              "      <td>1.960</td>\n",
              "      <td>1</td>\n",
              "      <td>1</td>\n",
              "      <td>14</td>\n",
              "      <td>0</td>\n",
              "      <td>2</td>\n",
              "      <td>60</td>\n",
              "      <td>159</td>\n",
              "      <td>1</td>\n",
              "    </tr>\n",
              "    <tr>\n",
              "      <th>5</th>\n",
              "      <td>15571121</td>\n",
              "      <td>0</td>\n",
              "      <td>15.83</td>\n",
              "      <td>0.585</td>\n",
              "      <td>2</td>\n",
              "      <td>8</td>\n",
              "      <td>8</td>\n",
              "      <td>1.500</td>\n",
              "      <td>1</td>\n",
              "      <td>1</td>\n",
              "      <td>2</td>\n",
              "      <td>0</td>\n",
              "      <td>2</td>\n",
              "      <td>100</td>\n",
              "      <td>1</td>\n",
              "      <td>1</td>\n",
              "    </tr>\n",
              "    <tr>\n",
              "      <th>6</th>\n",
              "      <td>15726466</td>\n",
              "      <td>1</td>\n",
              "      <td>17.42</td>\n",
              "      <td>6.500</td>\n",
              "      <td>2</td>\n",
              "      <td>3</td>\n",
              "      <td>4</td>\n",
              "      <td>0.125</td>\n",
              "      <td>0</td>\n",
              "      <td>0</td>\n",
              "      <td>0</td>\n",
              "      <td>0</td>\n",
              "      <td>2</td>\n",
              "      <td>60</td>\n",
              "      <td>101</td>\n",
              "      <td>0</td>\n",
              "    </tr>\n",
              "    <tr>\n",
              "      <th>7</th>\n",
              "      <td>15660390</td>\n",
              "      <td>0</td>\n",
              "      <td>58.67</td>\n",
              "      <td>4.460</td>\n",
              "      <td>2</td>\n",
              "      <td>11</td>\n",
              "      <td>8</td>\n",
              "      <td>3.040</td>\n",
              "      <td>1</td>\n",
              "      <td>1</td>\n",
              "      <td>6</td>\n",
              "      <td>0</td>\n",
              "      <td>2</td>\n",
              "      <td>43</td>\n",
              "      <td>561</td>\n",
              "      <td>1</td>\n",
              "    </tr>\n",
              "    <tr>\n",
              "      <th>8</th>\n",
              "      <td>15663942</td>\n",
              "      <td>1</td>\n",
              "      <td>27.83</td>\n",
              "      <td>1.000</td>\n",
              "      <td>1</td>\n",
              "      <td>2</td>\n",
              "      <td>8</td>\n",
              "      <td>3.000</td>\n",
              "      <td>0</td>\n",
              "      <td>0</td>\n",
              "      <td>0</td>\n",
              "      <td>0</td>\n",
              "      <td>2</td>\n",
              "      <td>176</td>\n",
              "      <td>538</td>\n",
              "      <td>0</td>\n",
              "    </tr>\n",
              "    <tr>\n",
              "      <th>9</th>\n",
              "      <td>15638610</td>\n",
              "      <td>0</td>\n",
              "      <td>55.75</td>\n",
              "      <td>7.080</td>\n",
              "      <td>2</td>\n",
              "      <td>4</td>\n",
              "      <td>8</td>\n",
              "      <td>6.750</td>\n",
              "      <td>1</td>\n",
              "      <td>1</td>\n",
              "      <td>3</td>\n",
              "      <td>1</td>\n",
              "      <td>2</td>\n",
              "      <td>100</td>\n",
              "      <td>51</td>\n",
              "      <td>0</td>\n",
              "    </tr>\n",
              "  </tbody>\n",
              "</table>\n",
              "</div>"
            ],
            "text/plain": [
              "   CustomerID  A1     A2      A3  A4  A5  A6     A7  A8  A9  A10  A11  A12  \\\n",
              "0    15776156   1  22.08  11.460   2   4   4  1.585   0   0    0    1    2   \n",
              "1    15739548   0  22.67   7.000   2   8   4  0.165   0   0    0    0    2   \n",
              "2    15662854   0  29.58   1.750   1   4   4  1.250   0   0    0    1    2   \n",
              "3    15687688   0  21.67  11.500   1   5   3  0.000   1   1   11    1    2   \n",
              "4    15715750   1  20.17   8.170   2   6   4  1.960   1   1   14    0    2   \n",
              "5    15571121   0  15.83   0.585   2   8   8  1.500   1   1    2    0    2   \n",
              "6    15726466   1  17.42   6.500   2   3   4  0.125   0   0    0    0    2   \n",
              "7    15660390   0  58.67   4.460   2  11   8  3.040   1   1    6    0    2   \n",
              "8    15663942   1  27.83   1.000   1   2   8  3.000   0   0    0    0    2   \n",
              "9    15638610   0  55.75   7.080   2   4   8  6.750   1   1    3    1    2   \n",
              "\n",
              "   A13   A14  Class  \n",
              "0  100  1213      0  \n",
              "1  160     1      0  \n",
              "2  280     1      0  \n",
              "3    0     1      1  \n",
              "4   60   159      1  \n",
              "5  100     1      1  \n",
              "6   60   101      0  \n",
              "7   43   561      1  \n",
              "8  176   538      0  \n",
              "9  100    51      0  "
            ]
          },
          "metadata": {
            "tags": []
          },
          "execution_count": 6
        }
      ]
    },
    {
      "metadata": {
        "id": "6A3y0XapHtmU",
        "colab_type": "code",
        "colab": {}
      },
      "cell_type": "code",
      "source": [
        "X=dataset.iloc[:,:-1].values"
      ],
      "execution_count": 0,
      "outputs": []
    },
    {
      "metadata": {
        "id": "yeEMhwlFLkYK",
        "colab_type": "code",
        "colab": {}
      },
      "cell_type": "code",
      "source": [
        "y=dataset.iloc[:,-1].values"
      ],
      "execution_count": 0,
      "outputs": []
    },
    {
      "metadata": {
        "id": "1O-zY6lSLvTh",
        "colab_type": "code",
        "colab": {}
      },
      "cell_type": "code",
      "source": [
        "#feature scaling\n",
        "from sklearn.preprocessing import MinMaxScaler\n",
        "sc = MinMaxScaler(feature_range=(0,1))"
      ],
      "execution_count": 0,
      "outputs": []
    },
    {
      "metadata": {
        "id": "mHVm1xR1L34C",
        "colab_type": "code",
        "outputId": "853cb3b3-2790-4025-e88d-bca023b8d435",
        "colab": {
          "base_uri": "https://localhost:8080/",
          "height": 245
        }
      },
      "cell_type": "code",
      "source": [
        "sc.fit_transform(X)"
      ],
      "execution_count": 0,
      "outputs": [
        {
          "output_type": "execute_result",
          "data": {
            "text/plain": [
              "array([[8.42681467e-01, 1.00000000e+00, 1.25263158e-01, ...,\n",
              "        5.00000000e-01, 5.00000000e-02, 1.21200000e-02],\n",
              "       [6.96090562e-01, 0.00000000e+00, 1.34135338e-01, ...,\n",
              "        5.00000000e-01, 8.00000000e-02, 0.00000000e+00],\n",
              "       [3.88981656e-01, 0.00000000e+00, 2.38045113e-01, ...,\n",
              "        5.00000000e-01, 1.40000000e-01, 0.00000000e+00],\n",
              "       ...,\n",
              "       [4.39420332e-01, 0.00000000e+00, 7.63909774e-02, ...,\n",
              "        5.00000000e-01, 5.00000000e-02, 0.00000000e+00],\n",
              "       [8.44034934e-01, 0.00000000e+00, 2.05563910e-01, ...,\n",
              "        5.00000000e-01, 6.00000000e-02, 1.10000000e-04],\n",
              "       [1.06907888e-01, 1.00000000e+00, 4.09774436e-01, ...,\n",
              "        0.00000000e+00, 2.80000000e-01, 0.00000000e+00]])"
            ]
          },
          "metadata": {
            "tags": []
          },
          "execution_count": 11
        }
      ]
    },
    {
      "metadata": {
        "id": "El5Cdc0jMwCj",
        "colab_type": "code",
        "outputId": "17898cb8-ebe7-4dfd-b6d8-b946e1af4010",
        "colab": {
          "base_uri": "https://localhost:8080/",
          "height": 245
        }
      },
      "cell_type": "code",
      "source": [
        "X"
      ],
      "execution_count": 0,
      "outputs": [
        {
          "output_type": "execute_result",
          "data": {
            "text/plain": [
              "array([[1.5776156e+07, 1.0000000e+00, 2.2080000e+01, ..., 2.0000000e+00,\n",
              "        1.0000000e+02, 1.2130000e+03],\n",
              "       [1.5739548e+07, 0.0000000e+00, 2.2670000e+01, ..., 2.0000000e+00,\n",
              "        1.6000000e+02, 1.0000000e+00],\n",
              "       [1.5662854e+07, 0.0000000e+00, 2.9580000e+01, ..., 2.0000000e+00,\n",
              "        2.8000000e+02, 1.0000000e+00],\n",
              "       ...,\n",
              "       [1.5675450e+07, 0.0000000e+00, 1.8830000e+01, ..., 2.0000000e+00,\n",
              "        1.0000000e+02, 1.0000000e+00],\n",
              "       [1.5776494e+07, 0.0000000e+00, 2.7420000e+01, ..., 2.0000000e+00,\n",
              "        1.2000000e+02, 1.2000000e+01],\n",
              "       [1.5592412e+07, 1.0000000e+00, 4.1000000e+01, ..., 1.0000000e+00,\n",
              "        5.6000000e+02, 1.0000000e+00]])"
            ]
          },
          "metadata": {
            "tags": []
          },
          "execution_count": 12
        }
      ]
    },
    {
      "metadata": {
        "id": "KuOABvGnN7Bi",
        "colab_type": "code",
        "colab": {}
      },
      "cell_type": "code",
      "source": [
        ""
      ],
      "execution_count": 0,
      "outputs": []
    },
    {
      "metadata": {
        "id": "G0Iovd3RPmhL",
        "colab_type": "text"
      },
      "cell_type": "markdown",
      "source": [
        "*training* SOM below code will use minisom library"
      ]
    },
    {
      "metadata": {
        "id": "DolJH2bxOVIN",
        "colab_type": "code",
        "colab": {}
      },
      "cell_type": "code",
      "source": [
        "from math import sqrt\n",
        "\n",
        "from numpy import (array, unravel_index, nditer, linalg, random, subtract,\n",
        "                   power, exp, pi, zeros, arange, outer, meshgrid, dot)\n",
        "from collections import defaultdict\n",
        "from warnings import warn\n",
        "\n",
        "\n",
        "\"\"\"\n",
        "    Minimalistic implementation of the Self Organizing Maps (SOM).\n",
        "\"\"\"\n",
        "\n",
        "\n",
        "def fast_norm(x):\n",
        "    \"\"\"Returns norm-2 of a 1-D numpy array.\n",
        "\n",
        "    * faster than linalg.norm in case of 1-D arrays (numpy 1.9.2rc1).\n",
        "    \"\"\"\n",
        "    return sqrt(dot(x, x.T))\n",
        "\n",
        "\n",
        "class MiniSom(object):\n",
        "    def __init__(self, x, y, input_len, sigma=1.0, learning_rate=0.5, decay_function=None, random_seed=None):\n",
        "        \"\"\"\n",
        "            Initializes a Self Organizing Maps.\n",
        "            x,y - dimensions of the SOM\n",
        "            input_len - number of the elements of the vectors in input\n",
        "            sigma - spread of the neighborhood function (Gaussian), needs to be adequate to the dimensions of the map.\n",
        "            (at the iteration t we have sigma(t) = sigma / (1 + t/T) where T is #num_iteration/2)\n",
        "            learning_rate - initial learning rate\n",
        "            (at the iteration t we have learning_rate(t) = learning_rate / (1 + t/T) where T is #num_iteration/2)\n",
        "            decay_function, function that reduces learning_rate and sigma at each iteration\n",
        "                            default function: lambda x,current_iteration,max_iter: x/(1+current_iteration/max_iter)\n",
        "            random_seed, random seed to use.\n",
        "        \"\"\"\n",
        "        if sigma >= x/2.0 or sigma >= y/2.0:\n",
        "            warn('Warning: sigma is too high for the dimension of the map.')\n",
        "        if random_seed:\n",
        "            self.random_generator = random.RandomState(random_seed)\n",
        "        else:\n",
        "            self.random_generator = random.RandomState(random_seed)\n",
        "        if decay_function:\n",
        "            self._decay_function = decay_function\n",
        "        else:\n",
        "            self._decay_function = lambda x, t, max_iter: x/(1+t/max_iter)\n",
        "        self.learning_rate = learning_rate\n",
        "        self.sigma = sigma\n",
        "        self.weights = self.random_generator.rand(x,y,input_len)*2-1 # random initialization\n",
        "        for i in range(x):\n",
        "            for j in range(y):\n",
        "                self.weights[i,j] = self.weights[i,j] / fast_norm(self.weights[i,j]) # normalization\n",
        "        self.activation_map = zeros((x,y))\n",
        "        self.neigx = arange(x)\n",
        "        self.neigy = arange(y) # used to evaluate the neighborhood function\n",
        "        self.neighborhood = self.gaussian\n",
        "\n",
        "    def _activate(self, x):\n",
        "        \"\"\" Updates matrix activation_map, in this matrix the element i,j is the response of the neuron i,j to x \"\"\"\n",
        "        s = subtract(x, self.weights) # x - w\n",
        "        it = nditer(self.activation_map, flags=['multi_index'])\n",
        "        while not it.finished:\n",
        "            self.activation_map[it.multi_index] = fast_norm(s[it.multi_index])  # || x - w ||\n",
        "            it.iternext()\n",
        "\n",
        "    def activate(self, x):\n",
        "        \"\"\" Returns the activation map to x \"\"\"\n",
        "        self._activate(x)\n",
        "        return self.activation_map\n",
        "\n",
        "    def gaussian(self, c, sigma):\n",
        "        \"\"\" Returns a Gaussian centered in c \"\"\"\n",
        "        d = 2*pi*sigma*sigma\n",
        "        ax = exp(-power(self.neigx-c[0], 2)/d)\n",
        "        ay = exp(-power(self.neigy-c[1], 2)/d)\n",
        "        return outer(ax, ay)  # the external product gives a matrix\n",
        "\n",
        "    def diff_gaussian(self, c, sigma):\n",
        "        \"\"\" Mexican hat centered in c (unused) \"\"\"\n",
        "        xx, yy = meshgrid(self.neigx, self.neigy)\n",
        "        p = power(xx-c[0], 2) + power(yy-c[1], 2)\n",
        "        d = 2*pi*sigma*sigma\n",
        "        return exp(-p/d)*(1-2/d*p)\n",
        "\n",
        "    def winner(self, x):\n",
        "        \"\"\" Computes the coordinates of the winning neuron for the sample x \"\"\"\n",
        "        self._activate(x)\n",
        "        return unravel_index(self.activation_map.argmin(), self.activation_map.shape)\n",
        "\n",
        "    def update(self, x, win, t):\n",
        "        \"\"\"\n",
        "            Updates the weights of the neurons.\n",
        "            x - current pattern to learn\n",
        "            win - position of the winning neuron for x (array or tuple).\n",
        "            t - iteration index\n",
        "        \"\"\"\n",
        "        eta = self._decay_function(self.learning_rate, t, self.T)\n",
        "        sig = self._decay_function(self.sigma, t, self.T) # sigma and learning rate decrease with the same rule\n",
        "        g = self.neighborhood(win, sig)*eta # improves the performances\n",
        "        it = nditer(g, flags=['multi_index'])\n",
        "        while not it.finished:\n",
        "            # eta * neighborhood_function * (x-w)\n",
        "            self.weights[it.multi_index] += g[it.multi_index]*(x-self.weights[it.multi_index])\n",
        "            # normalization\n",
        "            self.weights[it.multi_index] = self.weights[it.multi_index] / fast_norm(self.weights[it.multi_index])\n",
        "            it.iternext()\n",
        "\n",
        "    def quantization(self, data):\n",
        "        \"\"\" Assigns a code book (weights vector of the winning neuron) to each sample in data. \"\"\"\n",
        "        q = zeros(data.shape)\n",
        "        for i, x in enumerate(data):\n",
        "            q[i] = self.weights[self.winner(x)]\n",
        "        return q\n",
        "\n",
        "    def random_weights_init(self, data):\n",
        "        \"\"\" Initializes the weights of the SOM picking random samples from data \"\"\"\n",
        "        it = nditer(self.activation_map, flags=['multi_index'])\n",
        "        while not it.finished:\n",
        "            self.weights[it.multi_index] = data[self.random_generator.randint(len(data))]\n",
        "            self.weights[it.multi_index] = self.weights[it.multi_index]/fast_norm(self.weights[it.multi_index])\n",
        "            it.iternext()\n",
        "\n",
        "    def train_random(self, data, num_iteration):\n",
        "        \"\"\" Trains the SOM picking samples at random from data \"\"\"\n",
        "        self._init_T(num_iteration)\n",
        "        for iteration in range(num_iteration):\n",
        "            rand_i = self.random_generator.randint(len(data)) # pick a random sample\n",
        "            self.update(data[rand_i], self.winner(data[rand_i]), iteration)\n",
        "\n",
        "    def train_batch(self, data, num_iteration):\n",
        "        \"\"\" Trains using all the vectors in data sequentially \"\"\"\n",
        "        self._init_T(len(data)*num_iteration)\n",
        "        iteration = 0\n",
        "        while iteration < num_iteration:\n",
        "            idx = iteration % (len(data)-1)\n",
        "            self.update(data[idx], self.winner(data[idx]), iteration)\n",
        "            iteration += 1\n",
        "\n",
        "    def _init_T(self, num_iteration):\n",
        "        \"\"\" Initializes the parameter T needed to adjust the learning rate \"\"\"\n",
        "        self.T = num_iteration/2  # keeps the learning rate nearly constant for the last half of the iterations\n",
        "\n",
        "    def distance_map(self):\n",
        "        \"\"\" Returns the distance map of the weights.\n",
        "            Each cell is the normalised sum of the distances between a neuron and its neighbours.\n",
        "        \"\"\"\n",
        "        um = zeros((self.weights.shape[0], self.weights.shape[1]))\n",
        "        it = nditer(um, flags=['multi_index'])\n",
        "        while not it.finished:\n",
        "            for ii in range(it.multi_index[0]-1, it.multi_index[0]+2):\n",
        "                for jj in range(it.multi_index[1]-1, it.multi_index[1]+2):\n",
        "                    if ii >= 0 and ii < self.weights.shape[0] and jj >= 0 and jj < self.weights.shape[1]:\n",
        "                        um[it.multi_index] += fast_norm(self.weights[ii, jj, :]-self.weights[it.multi_index])\n",
        "            it.iternext()\n",
        "        um = um/um.max()\n",
        "        return um\n",
        "\n",
        "    def activation_response(self, data):\n",
        "        \"\"\"\n",
        "            Returns a matrix where the element i,j is the number of times\n",
        "            that the neuron i,j have been winner.\n",
        "        \"\"\"\n",
        "        a = zeros((self.weights.shape[0], self.weights.shape[1]))\n",
        "        for x in data:\n",
        "            a[self.winner(x)] += 1\n",
        "        return a\n",
        "\n",
        "    def quantization_error(self, data):\n",
        "        \"\"\"\n",
        "            Returns the quantization error computed as the average distance between\n",
        "            each input sample and its best matching unit.\n",
        "        \"\"\"\n",
        "        error = 0\n",
        "        for x in data:\n",
        "            error += fast_norm(x-self.weights[self.winner(x)])\n",
        "        return error/len(data)\n",
        "\n",
        "    def win_map(self, data):\n",
        "        \"\"\"\n",
        "            Returns a dictionary wm where wm[(i,j)] is a list with all the patterns\n",
        "            that have been mapped in the position i,j.\n",
        "        \"\"\"\n",
        "        winmap = defaultdict(list)\n",
        "        for x in data:\n",
        "            winmap[self.winner(x)].append(x)\n",
        "        return winmap\n",
        "\n",
        "### unit tests\n",
        "from numpy.testing import assert_almost_equal, assert_array_almost_equal, assert_array_equal\n",
        "\n",
        "\n",
        "class TestMinisom:\n",
        "    def setup_method(self, method):\n",
        "        self.som = MiniSom(5, 5, 1)\n",
        "        for i in range(5):\n",
        "            for j in range(5):\n",
        "                assert_almost_equal(1.0, linalg.norm(self.som.weights[i,j]))  # checking weights normalization\n",
        "        self.som.weights = zeros((5, 5))  # fake weights\n",
        "        self.som.weights[2, 3] = 5.0\n",
        "        self.som.weights[1, 1] = 2.0\n",
        "\n",
        "    def test_decay_function(self):\n",
        "        assert self.som._decay_function(1., 2., 3.) == 1./(1.+2./3.)\n",
        "\n",
        "    def test_fast_norm(self):\n",
        "        assert fast_norm(array([1, 3])) == sqrt(1+9)\n",
        "\n",
        "    def test_gaussian(self):\n",
        "        bell = self.som.gaussian((2, 2), 1)\n",
        "        assert bell.max() == 1.0\n",
        "        assert bell.argmax() == 12  # unravel(12) = (2,2)\n",
        "\n",
        "    def test_win_map(self):\n",
        "        winners = self.som.win_map([5.0, 2.0])\n",
        "        assert winners[(2, 3)][0] == 5.0\n",
        "        assert winners[(1, 1)][0] == 2.0\n",
        "\n",
        "    def test_activation_reponse(self):\n",
        "        response = self.som.activation_response([5.0, 2.0])\n",
        "        assert response[2, 3] == 1\n",
        "        assert response[1, 1] == 1\n",
        "\n",
        "    def test_activate(self):\n",
        "        assert self.som.activate(5.0).argmin() == 13.0  # unravel(13) = (2,3)\n",
        "\n",
        "    def test_quantization_error(self):\n",
        "        self.som.quantization_error([5, 2]) == 0.0\n",
        "        self.som.quantization_error([4, 1]) == 0.5\n",
        "\n",
        "    def test_quantization(self):\n",
        "        q = self.som.quantization(array([4, 2]))\n",
        "        assert q[0] == 5.0\n",
        "        assert q[1] == 2.0\n",
        "\n",
        "    def test_random_seed(self):\n",
        "        som1 = MiniSom(5, 5, 2, sigma=1.0, learning_rate=0.5, random_seed=1)\n",
        "        som2 = MiniSom(5, 5, 2, sigma=1.0, learning_rate=0.5, random_seed=1)\n",
        "        assert_array_almost_equal(som1.weights, som2.weights)  # same initialization\n",
        "        data = random.rand(100,2)\n",
        "        som1 = MiniSom(5, 5, 2, sigma=1.0, learning_rate=0.5, random_seed=1)\n",
        "        som1.train_random(data,10)\n",
        "        som2 = MiniSom(5, 5, 2, sigma=1.0, learning_rate=0.5, random_seed=1)\n",
        "        som2.train_random(data,10)\n",
        "        assert_array_almost_equal(som1.weights,som2.weights)  # same state after training\n",
        "\n",
        "    def test_train_batch(self):\n",
        "        som = MiniSom(5, 5, 2, sigma=1.0, learning_rate=0.5, random_seed=1)\n",
        "        data = array([[4, 2], [3, 1]])\n",
        "        q1 = som.quantization_error(data)\n",
        "        som.train_batch(data, 10)\n",
        "        assert q1 > som.quantization_error(data)\n",
        "\n",
        "    def test_train_random(self):\n",
        "        som = MiniSom(5, 5, 2, sigma=1.0, learning_rate=0.5, random_seed=1)\n",
        "        data = array([[4, 2], [3, 1]])\n",
        "        q1 = som.quantization_error(data)\n",
        "        som.train_random(data, 10)\n",
        "        assert q1 > som.quantization_error(data)\n",
        "\n",
        "    def test_random_weights_init(self):\n",
        "        som = MiniSom(2, 2, 2, random_seed=1)\n",
        "        som.random_weights_init(array([[1.0, .0]]))\n",
        "        for w in som.weights:\n",
        "            assert_array_equal(w[0], array([1.0, .0]))\n",
        "\n",
        "\n",
        "\n"
      ],
      "execution_count": 0,
      "outputs": []
    },
    {
      "metadata": {
        "id": "bSUXPCtmPem1",
        "colab_type": "code",
        "colab": {}
      },
      "cell_type": "code",
      "source": [
        "som=MiniSom(x=10,y=10,input_len=15,sigma=1.0,learning_rate=0.5) "
      ],
      "execution_count": 0,
      "outputs": []
    },
    {
      "metadata": {
        "id": "u1cyANwiQJ7i",
        "colab_type": "code",
        "colab": {}
      },
      "cell_type": "code",
      "source": [
        "som.random_weights_init(X)\n",
        "som.train_random(X,100)"
      ],
      "execution_count": 0,
      "outputs": []
    },
    {
      "metadata": {
        "id": "RgFvhtxZSjlL",
        "colab_type": "code",
        "colab": {}
      },
      "cell_type": "code",
      "source": [
        "from pylab import bone, pcolor, colorbar, plot,show"
      ],
      "execution_count": 0,
      "outputs": []
    },
    {
      "metadata": {
        "id": "xST4HNz9UOns",
        "colab_type": "code",
        "outputId": "95fa151b-0e39-42f6-e545-7a59029fd995",
        "colab": {
          "base_uri": "https://localhost:8080/",
          "height": 351
        }
      },
      "cell_type": "code",
      "source": [
        "bone()\n",
        "pcolor(som.distance_map().T)\n",
        "colorbar()\n",
        "markers=['o','s']\n",
        "colors=['r','g'] \n",
        "for i,x in enumerate(X):\n",
        "  w=som.winner(x)\n",
        "  plot(w[0]+0.5,\n",
        "       w[1]+0.5,\n",
        "       markers[y[i]],\n",
        "       markeredgecolor=colors[y[i]],\n",
        "       markerfacecolor=None,\n",
        "       markersize=10,\n",
        "       markeredgewidth=2)\n",
        "show()#to put the marker at the center of the square"
      ],
      "execution_count": 0,
      "outputs": [
        {
          "output_type": "display_data",
          "data": {
            "image/png": "[encoded data removed]",
            "text/plain": [
              "<Figure size 576x396 with 2 Axes>"
            ]
          },
          "metadata": {
            "tags": []
          }
        }
      ]
    },
    {
      "metadata": {
        "id": "wdJjJBoeUQZg",
        "colab_type": "code",
        "colab": {}
      },
      "cell_type": "code",
      "source": [
        ""
      ],
      "execution_count": 0,
      "outputs": []
    },
    {
      "metadata": {
        "id": "M59ZjWxLaS11",
        "colab_type": "text"
      },
      "cell_type": "markdown",
      "source": [
        "finding the frauds"
      ]
    },
    {
      "metadata": {
        "id": "KK54upREaVZU",
        "colab_type": "code",
        "colab": {}
      },
      "cell_type": "code",
      "source": [
        "mappings=som.win_map(X)"
      ],
      "execution_count": 0,
      "outputs": []
    },
    {
      "metadata": {
        "id": "dwhmDEt9aZb3",
        "colab_type": "code",
        "colab": {}
      },
      "cell_type": "code",
      "source": [
        "frauds= mappings[(5,4)]#because of relatively white color and having both square and red."
      ],
      "execution_count": 0,
      "outputs": []
    },
    {
      "metadata": {
        "id": "SZh6ccjoajJX",
        "colab_type": "code",
        "outputId": "03410a0b-a496-4561-96b4-20b9e639730a",
        "colab": {
          "base_uri": "https://localhost:8080/",
          "height": 790
        }
      },
      "cell_type": "code",
      "source": [
        "print(sc.inverse_transform(frauds))"
      ],
      "execution_count": 0,
      "outputs": [
        {
          "output_type": "stream",
          "text": [
            "[[3.93414409e+12 1.00000000e+00 1.79262500e+03 3.15000000e+01\n",
            "  5.00000000e+00 1.83000000e+02 6.50000000e+01 3.56250000e+01\n",
            "  1.00000000e+00 0.00000000e+00 0.00000000e+00 0.00000000e+00\n",
            "  5.00000000e+00 0.00000000e+00 5.29900001e+08]\n",
            " [3.89339906e+12 0.00000000e+00 1.67625000e+03 2.45000000e+01\n",
            "  5.00000000e+00 1.83000000e+02 6.50000000e+01 2.96400000e+01\n",
            "  1.00000000e+00 0.00000000e+00 0.00000000e+00 1.00000000e+00\n",
            "  5.00000000e+00 3.20000000e+05 5.86100001e+08]\n",
            " [3.91838644e+12 1.00000000e+00 1.69819500e+03 1.62400000e+01\n",
            "  5.00000000e+00 1.05000000e+02 3.30000000e+01 8.26500000e+00\n",
            "  1.00000000e+00 1.00000000e+00 4.69000000e+02 1.00000000e+00\n",
            "  5.00000000e+00 1.92000000e+05 5.12500001e+08]\n",
            " [3.93347732e+12 1.00000000e+00 3.30550000e+03 2.12380000e+02\n",
            "  5.00000000e+00 4.00000000e+01 4.10000000e+01 2.16172500e+02\n",
            "  1.00000000e+00 1.00000000e+00 1.00500000e+03 1.00000000e+00\n",
            "  5.00000000e+00 0.00000000e+00 5.00100001e+08]\n",
            " [3.93175993e+12 1.00000000e+00 1.55987500e+03 3.53500000e+02\n",
            "  5.00000000e+00 1.05000000e+02 3.30000000e+01 3.56250000e+00\n",
            "  0.00000000e+00 1.00000000e+00 1.34000000e+02 0.00000000e+00\n",
            "  5.00000000e+00 0.00000000e+00 5.55300001e+08]\n",
            " [3.92988422e+12 0.00000000e+00 2.11315500e+03 3.15000000e+02\n",
            "  5.00000000e+00 1.40000000e+01 9.00000000e+00 0.00000000e+00\n",
            "  0.00000000e+00 0.00000000e+00 0.00000000e+00 0.00000000e+00\n",
            "  5.00000000e+00 3.68000000e+05 5.20100001e+08]\n",
            " [3.90741610e+12 1.00000000e+00 1.78730500e+03 4.90000000e+01\n",
            "  3.00000000e+00 1.05000000e+02 3.30000000e+01 2.85000000e+01\n",
            "  1.00000000e+00 1.00000000e+00 3.35000000e+02 1.00000000e+00\n",
            "  5.00000000e+00 3.20000000e+05 5.77800001e+08]\n",
            " [3.93918812e+12 1.00000000e+00 2.50218000e+03 5.71200000e+01\n",
            "  5.00000000e+00 1.18000000e+02 3.30000000e+01 1.14000000e+00\n",
            "  1.00000000e+00 0.00000000e+00 0.00000000e+00 1.00000000e+00\n",
            "  5.00000000e+00 8.00000000e+05 5.80100001e+08]\n",
            " [3.88800117e+12 1.00000000e+00 2.09719500e+03 5.46000000e+02\n",
            "  5.00000000e+00 1.05000000e+02 3.30000000e+01 1.99500000e+02\n",
            "  1.00000000e+00 1.00000000e+00 1.07200000e+03 0.00000000e+00\n",
            "  5.00000000e+00 0.00000000e+00 5.00100001e+08]\n",
            " [3.94367825e+12 0.00000000e+00 1.80393000e+03 3.78000000e+02\n",
            "  5.00000000e+00 1.44000000e+02 6.50000000e+01 1.42500000e+02\n",
            "  1.00000000e+00 1.00000000e+00 1.34000000e+02 0.00000000e+00\n",
            "  5.00000000e+00 0.00000000e+00 5.00100001e+08]\n",
            " [3.88868842e+12 1.00000000e+00 2.61855500e+03 4.55000000e+01\n",
            "  5.00000000e+00 1.05000000e+02 3.30000000e+01 4.27500000e+01\n",
            "  1.00000000e+00 1.00000000e+00 6.70000000e+02 0.00000000e+00\n",
            "  5.00000000e+00 3.72000000e+05 4.70100001e+08]]\n"
          ],
          "name": "stdout"
        }
      ]
    },
    {
      "metadata": {
        "id": "Y0vlX3pxb6Ym",
        "colab_type": "code",
        "colab": {}
      },
      "cell_type": "code",
      "source": [
        ""
      ],
      "execution_count": 0,
      "outputs": []
    }
  ]
}