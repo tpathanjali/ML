{
 "cells": [
  {
   "cell_type": "markdown",
   "metadata": {},
   "source": [
    "# SIMPLE LOGISTIC REGRESSION FROM SCRATCH USING IRIS DATASET\n",
    "Thanks to https://blog.goodaudience.com/logistic-regression-from-scratch-in-numpy-5841c09e425f\n",
    "Thanks to https://www.ritchieng.com/logistic-regression/\n",
    "Thanks to https://towardsdatascience.com/building-a-logistic-regression-in-python-301d27367c24"
   ]
  },
  {
   "cell_type": "code",
   "execution_count": 1,
   "metadata": {},
   "outputs": [],
   "source": [
    "import sklearn\n",
    "import pandas as pd\n",
    "import numpy as np\n",
    "from sklearn import datasets\n",
    "from matplotlib import pyplot as plt\n",
    "from sklearn.model_selection import train_test_split\n",
    "from sklearn.datasets import load_iris\n",
    "from sklearn.metrics import f1_score"
   ]
  },
  {
   "cell_type": "code",
   "execution_count": 2,
   "metadata": {
    "collapsed": true
   },
   "outputs": [],
   "source": [
    "cols=['sepal_length', 'sepal_width', 'petal_length', 'petal_width', 'class']\n",
    "iris=pd.read_csv('C:\\\\Users\\\\sagar\\\\Downloads\\\\iris.data',names=cols)"
   ]
  },
  {
   "cell_type": "markdown",
   "metadata": {},
   "source": [
    "#### Tagging the classes to numbers for calculation sake"
   ]
  },
  {
   "cell_type": "code",
   "execution_count": 3,
   "metadata": {},
   "outputs": [],
   "source": [
    "cleanup={\"class\": {\"Iris-setosa\":0 ,\"Iris-versicolor\":1,\"Iris-virginica\":2 }}\n",
    "iris.replace(cleanup,inplace=True)"
   ]
  },
  {
   "cell_type": "markdown",
   "metadata": {},
   "source": [
    "#### considering only two classes(100 data points out of 150) for this example\n",
    "mixing the data as the data is quite aligned and seggregated in ascending order of classes"
   ]
  },
  {
   "cell_type": "code",
   "execution_count": 4,
   "metadata": {},
   "outputs": [],
   "source": [
    "iris_final=iris[iris['class'] !=2 ]\n",
    "iris_final = iris_final.sample(frac=1).reset_index(drop=True)"
   ]
  },
  {
   "cell_type": "code",
   "execution_count": 5,
   "metadata": {},
   "outputs": [],
   "source": [
    "X=iris_final[['sepal_length', 'sepal_width']]\n",
    "y=iris_final['class']"
   ]
  },
  {
   "cell_type": "code",
   "execution_count": 6,
   "metadata": {},
   "outputs": [],
   "source": [
    "X=np.array(X)"
   ]
  },
  {
   "cell_type": "code",
   "execution_count": 7,
   "metadata": {},
   "outputs": [],
   "source": [
    "y=np.array(y)"
   ]
  },
  {
   "cell_type": "code",
   "execution_count": 8,
   "metadata": {},
   "outputs": [
    {
     "data": {
      "image/png": "[encoded data removed]",
      "text/plain": [
       "<Figure size 432x288 with 1 Axes>"
      ]
     },
     "metadata": {},
     "output_type": "display_data"
    }
   ],
   "source": [
    "plt.plot(iris_final.loc[iris_final['class']==0,'sepal_length'],iris_final.loc[iris_final['class']==0,'sepal_width'],'b.')\n",
    "plt.plot(iris_final.loc[iris_final['class']==1,'sepal_length'],iris_final.loc[iris_final['class']==1,'sepal_width'],'g.')\n",
    "plt.xlabel('sepal_length')\n",
    "plt.ylabel('sepal_width')\n",
    "plt.legend(['setosa','versicolor'])\n",
    "plt.show()"
   ]
  },
  {
   "cell_type": "markdown",
   "metadata": {},
   "source": [
    "out of two possible outcomes, we use sepal_length and sepal_width as inputs and try to predict the class"
   ]
  },
  {
   "cell_type": "raw",
   "metadata": {},
   "source": [
    "h(x)=g(theta * x)\n",
    "\n",
    "z = theta * x \n",
    "\n",
    "g(z)=1/1+e**-z --> this is sigmoid function"
   ]
  },
  {
   "cell_type": "code",
   "execution_count": 9,
   "metadata": {},
   "outputs": [
    {
     "data": {
      "text/plain": [
       "((75, 2), (25, 2), (75,), (25,))"
      ]
     },
     "execution_count": 9,
     "metadata": {},
     "output_type": "execute_result"
    }
   ],
   "source": [
    "X_train,X_test,y_train,y_test=train_test_split(X,y,test_size=.25)\n",
    "X_train.shape,X_test.shape,y_train.shape,y_test.shape"
   ]
  },
  {
   "cell_type": "markdown",
   "metadata": {},
   "source": [
    "#### y arrays have to reshaped so they can be used for matrix operations in further steps"
   ]
  },
  {
   "cell_type": "code",
   "execution_count": 10,
   "metadata": {
    "collapsed": true
   },
   "outputs": [],
   "source": [
    "y_train=y_train.reshape(-1,1)\n",
    "y_test=y_test.reshape(-1,1)"
   ]
  },
  {
   "cell_type": "code",
   "execution_count": 11,
   "metadata": {},
   "outputs": [
    {
     "data": {
      "text/plain": [
       "((75, 2), (25, 2), (75, 1), (25, 1))"
      ]
     },
     "execution_count": 11,
     "metadata": {},
     "output_type": "execute_result"
    }
   ],
   "source": [
    "X_train.shape,X_test.shape,y_train.shape,y_test.shape"
   ]
  },
  {
   "cell_type": "code",
   "execution_count": 12,
   "metadata": {},
   "outputs": [],
   "source": [
    "def sigmoid(z):\n",
    "    return 1/(1+np.e**-z)"
   ]
  },
  {
   "cell_type": "markdown",
   "metadata": {},
   "source": [
    "#### this is loss at every instance. The difference between actual and predicted"
   ]
  },
  {
   "cell_type": "code",
   "execution_count": 13,
   "metadata": {
    "collapsed": true
   },
   "outputs": [],
   "source": [
    "def logistic_loss(y,y_hat):\n",
    "    return -np.mean(y * np.log(y_hat) + (1-y)* np.log(1-y_hat))"
   ]
  },
  {
   "cell_type": "markdown",
   "metadata": {},
   "source": [
    "#### Intializing the weights to zeros. Weights will be 2*1 matrix as we have two inputs and b will\n",
    "#### 1*1 matrix as it is a constant"
   ]
  },
  {
   "cell_type": "code",
   "execution_count": 14,
   "metadata": {},
   "outputs": [],
   "source": [
    "W=np.zeros((2,1))\n",
    "b=np.zeros((1,1))\n",
    "learning_rate=0.01"
   ]
  },
  {
   "cell_type": "markdown",
   "metadata": {},
   "source": [
    "## Gradient descent logic"
   ]
  },
  {
   "cell_type": "code",
   "execution_count": 15,
   "metadata": {},
   "outputs": [
    {
     "name": "stdout",
     "output_type": "stream",
     "text": [
      "0.6931471805599454\n",
      "0.6213062716367733\n",
      "0.5617311394407674\n",
      "0.5118533744776064\n",
      "0.469804132557481\n",
      "0.43407346189114027\n",
      "0.40346041210522454\n",
      "0.37701629567499123\n",
      "0.3539924322916052\n",
      "0.33379634595087854\n",
      "0.3159567855040378\n",
      "0.30009649857861653\n",
      "0.28591130936783876\n",
      "0.27315412201022926\n",
      "0.2616226936561527\n",
      "0.2511502637737217\n",
      "0.24159833976737743\n",
      "0.23285111109206838\n",
      "0.2248110967872313\n",
      "0.21739573137975493\n",
      "0.2105346685840712\n",
      "0.20416763739525126\n",
      "0.1982427259902797\n",
      "0.19271499910280093\n",
      "0.18754537702808155\n",
      "0.1826997212115408\n",
      "0.17814808398227208\n",
      "0.17386408950975987\n",
      "0.1698244202872302\n",
      "0.16600838896313236\n",
      "0.16239757958162693\n",
      "0.15897554556921978\n",
      "0.15572755435142963\n",
      "0.15264037047431767\n",
      "0.1497020706708398\n",
      "0.14690188554903144\n",
      "0.14423006356190834\n",
      "0.14167775370386898\n",
      "0.13923690400828265\n",
      "0.13690017342884356\n",
      "0.13466085509869552\n",
      "0.13251280929606946\n",
      "0.13045040471870414\n",
      "0.12846846689374186\n",
      "0.12656223273466433\n",
      "0.1247273104097125\n",
      "0.1229596438131256\n",
      "0.1212554810362327\n",
      "0.11961134632378065\n",
      "0.11802401507498257\n"
     ]
    }
   ],
   "source": [
    "m=len(y_train) \n",
    "for epoch in range(5000):\n",
    "    Z = np.matmul(X_train,W) + b #matrix multiplication will produce linear result with initial W value\n",
    "    A = sigmoid(Z) #this produces estimated 'y' with weights\n",
    "    loss = logistic_loss(y_train,A)  #this is loss, this is only printed in the end to see if the loss is getting reduced or not\n",
    "    dz = A - y_train #difference between each estimation and actual value\n",
    "    dw = 1/m * np.matmul(X_train.T, dz) #creating new weight based on all records(.T)represent matrix transform\n",
    "    db = np.sum(dz) #summation of all the differences to reset the weights\n",
    "    W = W - learning_rate * dw #adjusting the weights using the learning rate(LR). Its a hyper parameter\n",
    "    b = b - learning_rate * db #adjusting the intercept\n",
    "    \n",
    "    if epoch % 100  == 0:\n",
    "        print(loss)"
   ]
  },
  {
   "cell_type": "markdown",
   "metadata": {},
   "source": [
    "### predicting and checking how our algorithm works for train data"
   ]
  },
  {
   "cell_type": "code",
   "execution_count": 16,
   "metadata": {},
   "outputs": [],
   "source": [
    "preds=[]\n",
    "for i in sigmoid(Z):\n",
    "    if i>0.5:\n",
    "        preds.append(1)\n",
    "    else:\n",
    "        preds.append(0)"
   ]
  },
  {
   "cell_type": "code",
   "execution_count": 17,
   "metadata": {},
   "outputs": [
    {
     "name": "stdout",
     "output_type": "stream",
     "text": [
      "[0, 1, 0, 0, 0, 1, 1, 1, 1, 1, 1, 0, 1, 0, 0, 1, 0, 1, 0, 0, 1, 1, 1, 0, 1, 0, 1, 1, 0, 0, 0, 1, 1, 0, 1, 1, 1, 1, 0, 0, 0, 1, 0, 1, 0, 1, 0, 0, 0, 1, 0, 0, 0, 1, 0, 0, 0, 0, 1, 0, 1, 0, 1, 0, 1, 0, 1, 0, 0, 1, 1, 1, 1, 1, 1]\n"
     ]
    }
   ],
   "source": [
    "print(preds)"
   ]
  },
  {
   "cell_type": "code",
   "execution_count": 18,
   "metadata": {},
   "outputs": [
    {
     "data": {
      "text/plain": [
       "1.0"
      ]
     },
     "execution_count": 18,
     "metadata": {},
     "output_type": "execute_result"
    }
   ],
   "source": [
    "f1_score(preds,y_train)"
   ]
  },
  {
   "cell_type": "markdown",
   "metadata": {},
   "source": [
    "### predicting y_test using X_test as input with the weights obtained in the above gradient descent"
   ]
  },
  {
   "cell_type": "code",
   "execution_count": 19,
   "metadata": {},
   "outputs": [],
   "source": [
    "Z_test=np.matmul(X_test,W) + b\n"
   ]
  },
  {
   "cell_type": "markdown",
   "metadata": {},
   "source": [
    "##### segregating according the probabilities"
   ]
  },
  {
   "cell_type": "code",
   "execution_count": 20,
   "metadata": {},
   "outputs": [],
   "source": [
    "test_preds=[]\n",
    "for i in sigmoid(Z_test):\n",
    "    if i>0.5:\n",
    "        test_preds.append(1)\n",
    "    else:\n",
    "        test_preds.append(0)"
   ]
  },
  {
   "cell_type": "code",
   "execution_count": 21,
   "metadata": {},
   "outputs": [
    {
     "data": {
      "text/plain": [
       "[0, 0, 1, 0, 0, 0, 0, 1, 0, 1, 0, 1, 1, 1, 0, 0, 1, 0, 1, 1, 1, 1, 0, 1, 0]"
      ]
     },
     "execution_count": 21,
     "metadata": {},
     "output_type": "execute_result"
    }
   ],
   "source": [
    "test_preds"
   ]
  },
  {
   "cell_type": "markdown",
   "metadata": {},
   "source": [
    "#### creating scatter plot and checking if we are able to segregate based on the data"
   ]
  },
  {
   "cell_type": "code",
   "execution_count": 22,
   "metadata": {},
   "outputs": [
    {
     "data": {
      "image/png": "[encoded data removed]",
      "text/plain": [
       "<Figure size 432x288 with 1 Axes>"
      ]
     },
     "metadata": {},
     "output_type": "display_data"
    }
   ],
   "source": [
    "plt.scatter(X_test[:,0],X_test[:,1],c=y_test.ravel())\n",
    "ax=plt.gca()\n",
    "xvals=np.array(ax.get_xlim()).reshape(-1,1)\n",
    "yvals=-(xvals* W[0][0]+b)/W[1][0]\n",
    "plt.plot(xvals,yvals)\n",
    "plt.ylim(0,10)\n",
    "plt.show()"
   ]
  },
  {
   "cell_type": "markdown",
   "metadata": {},
   "source": [
    "## We are able to seggregate the classes pretty well. Though this might not help us with another test\n",
    "## dataset, we are good to showcase how logistic regression works from scratch"
   ]
  },
  {
   "cell_type": "code",
   "execution_count": null,
   "metadata": {
    "collapsed": true
   },
   "outputs": [],
   "source": []
  }
 ],
 "metadata": {
  "kernelspec": {
   "display_name": "Python 3",
   "language": "python",
   "name": "python3"
  },
  "language_info": {
   "codemirror_mode": {
    "name": "ipython",
    "version": 3
   },
   "file_extension": ".py",
   "mimetype": "text/x-python",
   "name": "python",
   "nbconvert_exporter": "python",
   "pygments_lexer": "ipython3",
   "version": "3.6.3"
  }
 },
 "nbformat": 4,
 "nbformat_minor": 2
}
