{
 "cells": [
  {
   "cell_type": "code",
   "execution_count": 109,
   "metadata": {},
   "outputs": [],
   "source": [
    "import sklearn\n",
    "import pandas as pd\n",
    "import numpy as np\n",
    "from sklearn import datasets\n",
    "from matplotlib import pyplot as plt\n",
    "from sklearn.model_selection import train_test_split\n",
    "from sklearn.datasets import load_iris"
   ]
  },
  {
   "cell_type": "code",
   "execution_count": 76,
   "metadata": {
    "collapsed": true
   },
   "outputs": [],
   "source": [
    "cols=['sepal_length', 'sepal_width', 'petal_length', 'petal_width', 'class']\n",
    "iris=pd.read_csv('C:\\\\Users\\\\sagar\\\\Downloads\\\\iris.data',names=cols)"
   ]
  },
  {
   "cell_type": "code",
   "execution_count": 77,
   "metadata": {},
   "outputs": [],
   "source": [
    "cleanup={\"class\": {\"Iris-setosa\":0 ,\"Iris-versicolor\":1,\"Iris-virginica\":2 }}\n",
    "iris.replace(cleanup,inplace=True)"
   ]
  },
  {
   "cell_type": "code",
   "execution_count": 78,
   "metadata": {},
   "outputs": [],
   "source": [
    "iris_final=iris[iris['class'] !=2 ]"
   ]
  },
  {
   "cell_type": "code",
   "execution_count": 132,
   "metadata": {},
   "outputs": [],
   "source": [
    "X=iris_final[['sepal_length', 'sepal_width']]\n",
    "y=iris_final['class']"
   ]
  },
  {
   "cell_type": "code",
   "execution_count": 133,
   "metadata": {},
   "outputs": [],
   "source": [
    "X=np.array(X)"
   ]
  },
  {
   "cell_type": "code",
   "execution_count": 134,
   "metadata": {},
   "outputs": [],
   "source": [
    "y=np.array(y)"
   ]
  },
  {
   "cell_type": "code",
   "execution_count": 80,
   "metadata": {},
   "outputs": [
    {
     "data": {
      "image/png": "[encoded data removed]",
      "text/plain": [
       "<Figure size 432x288 with 1 Axes>"
      ]
     },
     "metadata": {},
     "output_type": "display_data"
    }
   ],
   "source": [
    "plt.plot(iris_final.loc[iris_final['class']==0,'sepal_length'],iris_final.loc[iris_final['class']==0,'sepal_width'],'b.')\n",
    "plt.plot(iris_final.loc[iris_final['class']==1,'sepal_length'],iris_final.loc[iris_final['class']==1,'sepal_width'],'g.')\n",
    "plt.xlabel('sepal_length')\n",
    "plt.ylabel('sepal_width')\n",
    "plt.legend(['setosa','versicolor'])\n",
    "plt.show()"
   ]
  },
  {
   "cell_type": "markdown",
   "metadata": {},
   "source": [
    "out of two possible outcomes, we use sepal_length and sepal_width as inputs and try to predict the class"
   ]
  },
  {
   "cell_type": "raw",
   "metadata": {},
   "source": [
    "h(x)=g(theta * x)\n",
    "\n",
    "z = theta * x \n",
    "\n",
    "g(z)=1/1+e**-z"
   ]
  },
  {
   "cell_type": "code",
   "execution_count": 136,
   "metadata": {},
   "outputs": [],
   "source": [
    "X_train,X_test,y_train,y_test=train_test_split(X,y,test_size=.25)"
   ]
  },
  {
   "cell_type": "code",
   "execution_count": 106,
   "metadata": {},
   "outputs": [],
   "source": [
    "def sigmoid(z):\n",
    "    return 1/(1+np.e**-z)"
   ]
  },
  {
   "cell_type": "code",
   "execution_count": 82,
   "metadata": {
    "collapsed": true
   },
   "outputs": [],
   "source": [
    "def logistic_loss(y,y_hat):\n",
    "    return -np.mean(y * np.log(y_hat) + (1-y)* np.log(1-y_hat))"
   ]
  },
  {
   "cell_type": "code",
   "execution_count": 86,
   "metadata": {},
   "outputs": [],
   "source": [
    "W=np.zeros((2,1))\n",
    "b=np.zeros((1,1))\n",
    "learning_rate=0.01"
   ]
  },
  {
   "cell_type": "code",
   "execution_count": 140,
   "metadata": {},
   "outputs": [
    {
     "name": "stdout",
     "output_type": "stream",
     "text": [
      "2.380406677246314e-05\n",
      "2.37847088064405e-05\n",
      "2.376538438106247e-05\n",
      "2.374609296416348e-05\n",
      "2.372683413222808e-05\n",
      "2.3707607544422596e-05\n",
      "2.3688412923011523e-05\n",
      "2.3669250038259672e-05\n",
      "2.36501186971367e-05\n",
      "2.3631018734512153e-05\n",
      "2.3611950006676432e-05\n",
      "2.359291238626622e-05\n",
      "2.3573905758369772e-05\n",
      "2.3554930017748412e-05\n",
      "2.353598506649079e-05\n",
      "2.3517070812373477e-05\n",
      "2.349818716757409e-05\n",
      "2.3479334047687552e-05\n",
      "2.3460511370927112e-05\n",
      "2.344171905762268e-05\n",
      "2.3422957029741504e-05\n",
      "2.3404225210556704e-05\n",
      "2.3385523524421216e-05\n",
      "2.3366851896512662e-05\n",
      "2.3348210252739824e-05\n",
      "2.3329598519638544e-05\n",
      "2.3311016624214145e-05\n",
      "2.3292464493954984e-05\n",
      "2.3273942056697386e-05\n",
      "2.3255449240691305e-05\n",
      "2.3236985974467316e-05\n",
      "2.3218552186875882e-05\n",
      "2.3200147807051945e-05\n",
      "2.3181772764368253e-05\n",
      "2.3163426988527016e-05\n",
      "2.3145110409380785e-05\n",
      "2.3126822957128823e-05\n",
      "2.310856456211858e-05\n",
      "2.309033515500266e-05\n",
      "2.3072134666593207e-05\n",
      "2.3053963027994438e-05\n",
      "2.3035820170503936e-05\n",
      "2.3017706025625713e-05\n",
      "2.2999620525108098e-05\n",
      "2.2981563600915797e-05\n",
      "2.296353518522036e-05\n",
      "2.2945535210413394e-05\n",
      "2.292756360910821e-05\n",
      "2.2909620314146956e-05\n",
      "2.2891705258521804e-05\n"
     ]
    }
   ],
   "source": [
    "m=len(y_train)\n",
    "for epoch in range(5000):\n",
    "    Z = np.matmul(X_train,W) + b\n",
    "    A = sigmoid(Z)\n",
    "    loss = logistic_loss(y_train,A)\n",
    "    dz = A - y_train\n",
    "    dw = 1/m * np.matmul(X_train.T, dz)\n",
    "    db = np.sum(dz)\n",
    "    W = W - learning_rate * dw\n",
    "    b = b - learning_rate * db\n",
    "    \n",
    "    if epoch % 100  == 0:\n",
    "        print(loss)"
   ]
  },
  {
   "cell_type": "code",
   "execution_count": 142,
   "metadata": {},
   "outputs": [
    {
     "data": {
      "text/plain": [
       "array([[0.14570513]])"
      ]
     },
     "execution_count": 142,
     "metadata": {},
     "output_type": "execute_result"
    }
   ],
   "source": [
    "b"
   ]
  },
  {
   "cell_type": "code",
   "execution_count": null,
   "metadata": {
    "collapsed": true
   },
   "outputs": [],
   "source": []
  }
 ],
 "metadata": {
  "kernelspec": {
   "display_name": "Python 3",
   "language": "python",
   "name": "python3"
  },
  "language_info": {
   "codemirror_mode": {
    "name": "ipython",
    "version": 3
   },
   "file_extension": ".py",
   "mimetype": "text/x-python",
   "name": "python",
   "nbconvert_exporter": "python",
   "pygments_lexer": "ipython3",
   "version": "3.6.3"
  }
 },
 "nbformat": 4,
 "nbformat_minor": 2
}
