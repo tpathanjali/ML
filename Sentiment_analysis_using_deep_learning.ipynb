{
  "nbformat": 4,
  "nbformat_minor": 0,
  "metadata": {
    "colab": {
      "name": "Sentiment analysis using deep learning.ipynb",
      "version": "0.3.2",
      "provenance": [],
      "collapsed_sections": [],
      "include_colab_link": true
    },
    "kernelspec": {
      "name": "python3",
      "display_name": "Python 3"
    },
    "accelerator": "TPU"
  },
  "cells": [
    {
      "cell_type": "markdown",
      "metadata": {
        "id": "view-in-github",
        "colab_type": "text"
      },
      "source": [
        "<a href=\"https://colab.research.google.com/github/tpathanjali/ML/blob/master/Sentiment_analysis_using_deep_learning.ipynb\" target=\"_parent\"><img src=\"https://colab.research.google.com/assets/colab-badge.svg\" alt=\"Open In Colab\"/></a>"
      ]
    },
    {
      "metadata": {
        "id": "O8nad1_NFFiw",
        "colab_type": "code",
        "colab": {}
      },
      "cell_type": "code",
      "source": [
        "!pip install -U -q sklearn\n"
      ],
      "execution_count": 0,
      "outputs": []
    },
    {
      "metadata": {
        "id": "YzrQdxXJku9Q",
        "colab_type": "code",
        "outputId": "e48f13bc-3f10-4772-c391-ecee02483ad6",
        "colab": {
          "base_uri": "https://localhost:8080/",
          "height": 52
        }
      },
      "cell_type": "code",
      "source": [
        "!pip install -U -q PyDrive"
      ],
      "execution_count": 2,
      "outputs": [
        {
          "output_type": "stream",
          "text": [
            "\u001b[?25l\r\u001b[K    1% |▎                               | 10kB 21.1MB/s eta 0:00:01\r\u001b[K    2% |▋                               | 20kB 2.2MB/s eta 0:00:01\r\u001b[K    3% |█                               | 30kB 3.2MB/s eta 0:00:01\r\u001b[K    4% |█▎                              | 40kB 2.1MB/s eta 0:00:01\r\u001b[K    5% |█▋                              | 51kB 2.6MB/s eta 0:00:01\r\u001b[K    6% |██                              | 61kB 3.1MB/s eta 0:00:01\r\u001b[K    7% |██▎                             | 71kB 3.6MB/s eta 0:00:01\r\u001b[K    8% |██▋                             | 81kB 4.1MB/s eta 0:00:01\r\u001b[K    9% |███                             | 92kB 4.5MB/s eta 0:00:01\r\u001b[K    10% |███▎                            | 102kB 3.5MB/s eta 0:00:01\r\u001b[K    11% |███▋                            | 112kB 3.5MB/s eta 0:00:01\r\u001b[K    12% |████                            | 122kB 4.9MB/s eta 0:00:01\r\u001b[K    13% |████▎                           | 133kB 4.9MB/s eta 0:00:01\r\u001b[K    14% |████▋                           | 143kB 9.2MB/s eta 0:00:01\r\u001b[K    15% |█████                           | 153kB 9.3MB/s eta 0:00:01\r\u001b[K    16% |█████▎                          | 163kB 9.3MB/s eta 0:00:01\r\u001b[K    17% |█████▋                          | 174kB 9.1MB/s eta 0:00:01\r\u001b[K    18% |██████                          | 184kB 9.1MB/s eta 0:00:01\r\u001b[K    19% |██████▎                         | 194kB 9.1MB/s eta 0:00:01\r\u001b[K    20% |██████▋                         | 204kB 43.7MB/s eta 0:00:01\r\u001b[K    21% |███████                         | 215kB 10.6MB/s eta 0:00:01\r\u001b[K    22% |███████▎                        | 225kB 10.6MB/s eta 0:00:01\r\u001b[K    23% |███████▋                        | 235kB 10.7MB/s eta 0:00:01\r\u001b[K    24% |████████                        | 245kB 10.6MB/s eta 0:00:01\r\u001b[K    25% |████████▎                       | 256kB 10.5MB/s eta 0:00:01\r\u001b[K    26% |████████▋                       | 266kB 10.2MB/s eta 0:00:01\r\u001b[K    27% |█████████                       | 276kB 10.4MB/s eta 0:00:01\r\u001b[K    29% |█████████▎                      | 286kB 10.5MB/s eta 0:00:01\r\u001b[K    30% |█████████▋                      | 296kB 10.5MB/s eta 0:00:01\r\u001b[K    31% |██████████                      | 307kB 10.7MB/s eta 0:00:01\r\u001b[K    32% |██████████▎                     | 317kB 47.2MB/s eta 0:00:01\r\u001b[K    33% |██████████▋                     | 327kB 48.1MB/s eta 0:00:01\r\u001b[K    34% |███████████                     | 337kB 49.2MB/s eta 0:00:01\r\u001b[K    35% |███████████▎                    | 348kB 46.4MB/s eta 0:00:01\r\u001b[K    36% |███████████▋                    | 358kB 47.5MB/s eta 0:00:01\r\u001b[K    37% |████████████                    | 368kB 55.9MB/s eta 0:00:01\r\u001b[K    38% |████████████▎                   | 378kB 56.5MB/s eta 0:00:01\r\u001b[K    39% |████████████▋                   | 389kB 57.2MB/s eta 0:00:01\r\u001b[K    40% |█████████████                   | 399kB 57.9MB/s eta 0:00:01\r\u001b[K    41% |█████████████▎                  | 409kB 12.7MB/s eta 0:00:01\r\u001b[K    42% |█████████████▋                  | 419kB 12.5MB/s eta 0:00:01\r\u001b[K    43% |██████████████                  | 430kB 12.4MB/s eta 0:00:01\r\u001b[K    44% |██████████████▎                 | 440kB 12.4MB/s eta 0:00:01\r\u001b[K    45% |██████████████▋                 | 450kB 12.5MB/s eta 0:00:01\r\u001b[K    46% |███████████████                 | 460kB 12.5MB/s eta 0:00:01\r\u001b[K    47% |███████████████▎                | 471kB 12.1MB/s eta 0:00:01\r\u001b[K    48% |███████████████▋                | 481kB 12.1MB/s eta 0:00:01\r\u001b[K    49% |████████████████                | 491kB 12.0MB/s eta 0:00:01\r\u001b[K    50% |████████████████▎               | 501kB 12.0MB/s eta 0:00:01\r\u001b[K    51% |████████████████▋               | 512kB 42.1MB/s eta 0:00:01\r\u001b[K    52% |█████████████████               | 522kB 44.2MB/s eta 0:00:01\r\u001b[K    53% |█████████████████▎              | 532kB 45.4MB/s eta 0:00:01\r\u001b[K    54% |█████████████████▋              | 542kB 46.2MB/s eta 0:00:01\r\u001b[K    55% |██████████████████              | 552kB 11.2MB/s eta 0:00:01\r\u001b[K    57% |██████████████████▎             | 563kB 11.1MB/s eta 0:00:01\r\u001b[K    58% |██████████████████▋             | 573kB 11.4MB/s eta 0:00:01\r\u001b[K    59% |███████████████████             | 583kB 11.3MB/s eta 0:00:01\r\u001b[K    60% |███████████████████▎            | 593kB 11.3MB/s eta 0:00:01\r\u001b[K    61% |███████████████████▋            | 604kB 11.3MB/s eta 0:00:01\r\u001b[K    62% |████████████████████            | 614kB 11.4MB/s eta 0:00:01\r\u001b[K    63% |████████████████████▎           | 624kB 11.5MB/s eta 0:00:01\r\u001b[K    64% |████████████████████▋           | 634kB 11.4MB/s eta 0:00:01\r\u001b[K    65% |█████████████████████           | 645kB 11.4MB/s eta 0:00:01\r\u001b[K    66% |█████████████████████▎          | 655kB 52.8MB/s eta 0:00:01\r\u001b[K    67% |█████████████████████▋          | 665kB 41.0MB/s eta 0:00:01\r\u001b[K    68% |██████████████████████          | 675kB 42.0MB/s eta 0:00:01\r\u001b[K    69% |██████████████████████▎         | 686kB 43.8MB/s eta 0:00:01\r\u001b[K    70% |██████████████████████▋         | 696kB 44.4MB/s eta 0:00:01\r\u001b[K    71% |███████████████████████         | 706kB 45.5MB/s eta 0:00:01\r\u001b[K    72% |███████████████████████▎        | 716kB 45.8MB/s eta 0:00:01\r\u001b[K    73% |███████████████████████▋        | 727kB 45.9MB/s eta 0:00:01\r\u001b[K    74% |████████████████████████        | 737kB 46.6MB/s eta 0:00:01\r\u001b[K    75% |████████████████████████▎       | 747kB 46.4MB/s eta 0:00:01\r\u001b[K    76% |████████████████████████▋       | 757kB 46.8MB/s eta 0:00:01\r\u001b[K    77% |████████████████████████▉       | 768kB 64.2MB/s eta 0:00:01\r\u001b[K    78% |█████████████████████████▏      | 778kB 63.2MB/s eta 0:00:01\r\u001b[K    79% |█████████████████████████▌      | 788kB 62.2MB/s eta 0:00:01\r\u001b[K    80% |█████████████████████████▉      | 798kB 61.2MB/s eta 0:00:01\r\u001b[K    81% |██████████████████████████▏     | 808kB 60.5MB/s eta 0:00:01\r\u001b[K    82% |██████████████████████████▌     | 819kB 60.7MB/s eta 0:00:01\r\u001b[K    83% |██████████████████████████▉     | 829kB 60.3MB/s eta 0:00:01\r\u001b[K    85% |███████████████████████████▏    | 839kB 60.9MB/s eta 0:00:01\r\u001b[K    86% |███████████████████████████▌    | 849kB 61.8MB/s eta 0:00:01\r\u001b[K    87% |███████████████████████████▉    | 860kB 54.8MB/s eta 0:00:01\r\u001b[K    88% |████████████████████████████▏   | 870kB 55.5MB/s eta 0:00:01\r\u001b[K    89% |████████████████████████████▌   | 880kB 56.8MB/s eta 0:00:01\r\u001b[K    90% |████████████████████████████▉   | 890kB 57.8MB/s eta 0:00:01\r\u001b[K    91% |█████████████████████████████▏  | 901kB 58.9MB/s eta 0:00:01\r\u001b[K    92% |█████████████████████████████▌  | 911kB 58.2MB/s eta 0:00:01\r\u001b[K    93% |█████████████████████████████▉  | 921kB 58.8MB/s eta 0:00:01\r\u001b[K    94% |██████████████████████████████▏ | 931kB 59.2MB/s eta 0:00:01\r\u001b[K    95% |██████████████████████████████▌ | 942kB 59.2MB/s eta 0:00:01\r\u001b[K    96% |██████████████████████████████▉ | 952kB 59.2MB/s eta 0:00:01\r\u001b[K    97% |███████████████████████████████▏| 962kB 67.4MB/s eta 0:00:01\r\u001b[K    98% |███████████████████████████████▌| 972kB 66.6MB/s eta 0:00:01\r\u001b[K    99% |███████████████████████████████▉| 983kB 65.8MB/s eta 0:00:01\r\u001b[K    100% |████████████████████████████████| 993kB 22.1MB/s \n",
            "\u001b[?25h  Building wheel for PyDrive (setup.py) ... \u001b[?25ldone\n",
            "\u001b[?25h"
          ],
          "name": "stdout"
        }
      ]
    },
    {
      "metadata": {
        "id": "wCbezjLIFdxt",
        "colab_type": "code",
        "colab": {}
      },
      "cell_type": "code",
      "source": [
        "from pydrive.auth import GoogleAuth\n",
        "from pydrive.drive import GoogleDrive\n",
        "from google.colab import auth\n",
        "from oauth2client.client import GoogleCredentials\n",
        "\n",
        "# Authenticate and create the PyDrive client.\n",
        "# This only needs to be done once per notebook.\n",
        "auth.authenticate_user()\n",
        "gauth = GoogleAuth()\n",
        "gauth.credentials = GoogleCredentials.get_application_default()\n",
        "drive = GoogleDrive(gauth)\n",
        "\n",
        "TrainFile = '1uitbEQqxS1E7B_w1JoxOBM9A-A06kMPT'\n",
        "downloaded = drive.CreateFile({'id': TrainFile})\n",
        "downloaded.GetContentFile('twittertrain.txt')\n",
        "TestFile = '1ZI0pmAytx1JbCKKR4mfdxErQilljYnuA'\n",
        "downloaded2 = drive.CreateFile({'id': TestFile})\n",
        "downloaded2.GetContentFile('twitterTST.txt')"
      ],
      "execution_count": 0,
      "outputs": []
    },
    {
      "metadata": {
        "id": "XbIji80hF8yz",
        "colab_type": "code",
        "colab": {
          "base_uri": "https://localhost:8080/",
          "height": 70
        },
        "outputId": "eccaa237-10f0-4f8c-aa87-4ee7ef684043"
      },
      "cell_type": "code",
      "source": [
        "import sklearn as sklearn\n",
        "from string import punctuation\n",
        "import re\n",
        "from nltk.corpus import wordnet\n",
        "import keras as kr\n",
        "import numpy as np\n",
        "import matplotlib.pyplot as plt\n",
        "import pandas as pd\n",
        "import nltk\n",
        "nltk.download('wordnet')"
      ],
      "execution_count": 13,
      "outputs": [
        {
          "output_type": "stream",
          "text": [
            "[nltk_data] Downloading package wordnet to /root/nltk_data...\n",
            "[nltk_data]   Unzipping corpora/wordnet.zip.\n"
          ],
          "name": "stdout"
        },
        {
          "output_type": "execute_result",
          "data": {
            "text/plain": [
              "True"
            ]
          },
          "metadata": {
            "tags": []
          },
          "execution_count": 13
        }
      ]
    },
    {
      "metadata": {
        "id": "uYCyne8m_eXb",
        "colab_type": "code",
        "colab": {}
      },
      "cell_type": "code",
      "source": [
        "twitter_train=pd.read_csv('twittertrain.txt',sep=',',encoding='latin-1')\n",
        "twitter_test=pd.read_csv('twitterTST.txt',sep=',',encoding='latin-1')"
      ],
      "execution_count": 0,
      "outputs": []
    },
    {
      "metadata": {
        "id": "swsUFxK_ZzGv",
        "colab_type": "code",
        "colab": {}
      },
      "cell_type": "code",
      "source": [
        "def clean_tweet(tweet):\n",
        "    X= ' '.join(re.sub(\"(@[A-Za-z0-9]+)|([^0-9A-Za-z \\t])|(\\w+:\\/\\/\\S+)|(\\d)\", \" \", tweet).split())\n",
        "    return(X.lower())\n",
        "replacement_patterns = [(r'its', 'it is'),(r'im', 'i am'),(r'isnt', 'is not'),(r'thats', 'that is'),(r'won\\'t', 'will not'),(r'can\\'t', 'can not'),(r'i\\'m', 'i am'),(r'ain\\'t', 'is not'),(r'(\\w+)\\'ll', '\\g<1> will'),(r'(\\w+)n\\'t', '\\g<1> not'),(r'(\\w+)\\'ve', '\\g<1> have'),(r'(\\w+)\\'s', '\\g<1> is'),(r'(\\w+)\\'re', '\\g<1> are'),(r'(\\w+)\\'d', '\\g<1> would')]\n",
        "class RegexpReplacer(object): \n",
        "    def __init__(self, patterns=replacement_patterns): \n",
        "        self.patterns = [(re.compile(regex), repl) for (regex, repl) in patterns] \n",
        "    def replace(self, text):\n",
        "        s = text \n",
        "        for (pattern, repl) in self.patterns: \n",
        "            (s, count) = re.subn(pattern, repl, s) \n",
        "        return s\n",
        "class RepeatReplacer(object): \n",
        "    def __init__(self): \n",
        "        self.repeat_regexp = re.compile(r'(\\w*)(\\w)\\2(\\w*)') \n",
        "        self.repl = r'\\1\\2\\3' \n",
        "    def replace(self, word): \n",
        "        if wordnet.synsets(word): \n",
        "            return word \n",
        "        repl_word = self.repeat_regexp.sub(self.repl, word) \n",
        "        if repl_word != word: \n",
        "            return self.replace(repl_word) \n",
        "        else: \n",
        "            return repl_word\n",
        "def integrate(word):\n",
        "  x=RegexpReplacer()\n",
        "  y=RepeatReplacer()\n",
        "  return(\" \".join([y.replace(i) for i in clean_tweet(x.replace(word)).split(' ')]))"
      ],
      "execution_count": 0,
      "outputs": []
    },
    {
      "metadata": {
        "id": "wQrRduyWxKre",
        "colab_type": "code",
        "colab": {}
      },
      "cell_type": "code",
      "source": [
        "twitter_train['cleaned']=twitter_train['SentimentText'].apply(integrate)"
      ],
      "execution_count": 0,
      "outputs": []
    },
    {
      "metadata": {
        "id": "QdhlDmzQjH8D",
        "colab_type": "code",
        "colab": {
          "base_uri": "https://localhost:8080/",
          "height": 1925
        },
        "outputId": "3db327a0-de48-4ad5-e39e-d187898b5c78"
      },
      "cell_type": "code",
      "source": [
        "twitter_train[['SentimentText','cleaned']]"
      ],
      "execution_count": 23,
      "outputs": [
        {
          "output_type": "execute_result",
          "data": {
            "text/html": [
              "<div>\n",
              "<style scoped>\n",
              "    .dataframe tbody tr th:only-of-type {\n",
              "        vertical-align: middle;\n",
              "    }\n",
              "\n",
              "    .dataframe tbody tr th {\n",
              "        vertical-align: top;\n",
              "    }\n",
              "\n",
              "    .dataframe thead th {\n",
              "        text-align: right;\n",
              "    }\n",
              "</style>\n",
              "<table border=\"1\" class=\"dataframe\">\n",
              "  <thead>\n",
              "    <tr style=\"text-align: right;\">\n",
              "      <th></th>\n",
              "      <th>SentimentText</th>\n",
              "      <th>cleaned</th>\n",
              "    </tr>\n",
              "  </thead>\n",
              "  <tbody>\n",
              "    <tr>\n",
              "      <th>0</th>\n",
              "      <td>is so sad for my APL frie...</td>\n",
              "      <td>is so sad for my apl friend</td>\n",
              "    </tr>\n",
              "    <tr>\n",
              "      <th>1</th>\n",
              "      <td>I missed the New Moon trail...</td>\n",
              "      <td>i missed the new moon trailer</td>\n",
              "    </tr>\n",
              "    <tr>\n",
              "      <th>2</th>\n",
              "      <td>omg its already 7:30 :O</td>\n",
              "      <td>omg it is already o</td>\n",
              "    </tr>\n",
              "    <tr>\n",
              "      <th>3</th>\n",
              "      <td>.. Omgaga. Im sooo  im gunna CRy. I'...</td>\n",
              "      <td>omgaga im so i am guna cry i have been at this...</td>\n",
              "    </tr>\n",
              "    <tr>\n",
              "      <th>4</th>\n",
              "      <td>i think mi bf is cheating on me!!!   ...</td>\n",
              "      <td>i think mi bf is cheating on me t t</td>\n",
              "    </tr>\n",
              "    <tr>\n",
              "      <th>5</th>\n",
              "      <td>or i just worry too much?</td>\n",
              "      <td>or i just worry too much</td>\n",
              "    </tr>\n",
              "    <tr>\n",
              "      <th>6</th>\n",
              "      <td>Juuuuuuuuuuuuuuuuussssst Chillin!!</td>\n",
              "      <td>just chilin</td>\n",
              "    </tr>\n",
              "    <tr>\n",
              "      <th>7</th>\n",
              "      <td>Sunny Again        Work Tomorrow  :-|  ...</td>\n",
              "      <td>sunny again work tomorrow tv tonight</td>\n",
              "    </tr>\n",
              "    <tr>\n",
              "      <th>8</th>\n",
              "      <td>handed in my uniform today . i miss you ...</td>\n",
              "      <td>handed in my uniform today i miss you already</td>\n",
              "    </tr>\n",
              "    <tr>\n",
              "      <th>9</th>\n",
              "      <td>hmmmm.... i wonder how she my number @-)</td>\n",
              "      <td>hm i wonder how she my number</td>\n",
              "    </tr>\n",
              "    <tr>\n",
              "      <th>10</th>\n",
              "      <td>I must think about positive..</td>\n",
              "      <td>i must think about positive</td>\n",
              "    </tr>\n",
              "    <tr>\n",
              "      <th>11</th>\n",
              "      <td>thanks to all the haters up in my face a...</td>\n",
              "      <td>thanks to all the haters up in my face all day</td>\n",
              "    </tr>\n",
              "    <tr>\n",
              "      <th>12</th>\n",
              "      <td>this weekend has sucked so far</td>\n",
              "      <td>this weekend has sucked so far</td>\n",
              "    </tr>\n",
              "    <tr>\n",
              "      <th>13</th>\n",
              "      <td>jb isnt showing in australia any more!</td>\n",
              "      <td>jb is not showing in australia any more</td>\n",
              "    </tr>\n",
              "    <tr>\n",
              "      <th>14</th>\n",
              "      <td>ok thats it you win.</td>\n",
              "      <td>ok that is it you win</td>\n",
              "    </tr>\n",
              "    <tr>\n",
              "      <th>15</th>\n",
              "      <td>&amp;lt;-------- This is the way i feel right ...</td>\n",
              "      <td>lt this is the way i feel right now</td>\n",
              "    </tr>\n",
              "    <tr>\n",
              "      <th>16</th>\n",
              "      <td>awhhe man.... I'm completely useless rt no...</td>\n",
              "      <td>awhe man i m completely useless rt now funny a...</td>\n",
              "    </tr>\n",
              "    <tr>\n",
              "      <th>17</th>\n",
              "      <td>Feeling strangely fine. Now I'm gonna go l...</td>\n",
              "      <td>feeling strangely fine now i m gona go listen ...</td>\n",
              "    </tr>\n",
              "    <tr>\n",
              "      <th>18</th>\n",
              "      <td>HUGE roll of thunder just now...SO scary!!!!</td>\n",
              "      <td>huge roll of thunder just now so scary</td>\n",
              "    </tr>\n",
              "    <tr>\n",
              "      <th>19</th>\n",
              "      <td>I just cut my beard off. It's only been gr...</td>\n",
              "      <td>i just cut my beard off it is only been growin...</td>\n",
              "    </tr>\n",
              "    <tr>\n",
              "      <th>20</th>\n",
              "      <td>Very sad about Iran.</td>\n",
              "      <td>very sad about iran</td>\n",
              "    </tr>\n",
              "    <tr>\n",
              "      <th>21</th>\n",
              "      <td>wompppp wompp</td>\n",
              "      <td>womp womp</td>\n",
              "    </tr>\n",
              "    <tr>\n",
              "      <th>22</th>\n",
              "      <td>You're the only one who can see this cause...</td>\n",
              "      <td>you are the only one who can see this cause no...</td>\n",
              "    </tr>\n",
              "    <tr>\n",
              "      <th>23</th>\n",
              "      <td>&amp;lt;---Sad level is 3. I was writing a mass...</td>\n",
              "      <td>lt sad level is i was writing a massive blog t...</td>\n",
              "    </tr>\n",
              "    <tr>\n",
              "      <th>24</th>\n",
              "      <td>...  Headed to Hospitol : Had to pull out o...</td>\n",
              "      <td>headed to hospitol had to pull out of the golf...</td>\n",
              "    </tr>\n",
              "    <tr>\n",
              "      <th>25</th>\n",
              "      <td>BoRinG   ): whats wrong with him??     Plea...</td>\n",
              "      <td>boring whats wrong with hi am please tell me</td>\n",
              "    </tr>\n",
              "    <tr>\n",
              "      <th>26</th>\n",
              "      <td>can't be bothered. i wish i could spend the...</td>\n",
              "      <td>can not be bothered i wish i could spend the r...</td>\n",
              "    </tr>\n",
              "    <tr>\n",
              "      <th>27</th>\n",
              "      <td>Feeeling like shit right now. I really want...</td>\n",
              "      <td>feeling like shit right now i really want to s...</td>\n",
              "    </tr>\n",
              "    <tr>\n",
              "      <th>28</th>\n",
              "      <td>goodbye exams, HELLO ALCOHOL TONIGHT</td>\n",
              "      <td>goodbye exams hello alcohol tonight</td>\n",
              "    </tr>\n",
              "    <tr>\n",
              "      <th>29</th>\n",
              "      <td>I didn't realize it was THAT deep. Geez giv...</td>\n",
              "      <td>i did not realize it was that deep gez give a ...</td>\n",
              "    </tr>\n",
              "    <tr>\n",
              "      <th>...</th>\n",
              "      <td>...</td>\n",
              "      <td>...</td>\n",
              "    </tr>\n",
              "    <tr>\n",
              "      <th>99959</th>\n",
              "      <td>@CT415 @UCLA_Bruin  it made me sad too!  that ...</td>\n",
              "      <td>bruin it made me sad too that means no more al...</td>\n",
              "    </tr>\n",
              "    <tr>\n",
              "      <th>99960</th>\n",
              "      <td>@CT415 I agree. I think they all have that fet...</td>\n",
              "      <td>i agree i think they all have that fetish too</td>\n",
              "    </tr>\n",
              "    <tr>\n",
              "      <th>99961</th>\n",
              "      <td>@ct415 I hope it's not too serious of an injur...</td>\n",
              "      <td>i hope it is not too serious of an injury i m ...</td>\n",
              "    </tr>\n",
              "    <tr>\n",
              "      <th>99962</th>\n",
              "      <td>@ctabita if it's any consolation, this weekend...</td>\n",
              "      <td>if it is any consolation this weekend is not q...</td>\n",
              "    </tr>\n",
              "    <tr>\n",
              "      <th>99963</th>\n",
              "      <td>@ctayah got your back, yo!</td>\n",
              "      <td>got your back yo</td>\n",
              "    </tr>\n",
              "    <tr>\n",
              "      <th>99964</th>\n",
              "      <td>@ctaylor0127 I can't wait to see that movie. E...</td>\n",
              "      <td>i can not wait to see that movie enjoy</td>\n",
              "    </tr>\n",
              "    <tr>\n",
              "      <th>99965</th>\n",
              "      <td>@ctaylor10127 @smelby I am excited and a littl...</td>\n",
              "      <td>i am excited and a little nervous i can not wait</td>\n",
              "    </tr>\n",
              "    <tr>\n",
              "      <th>99966</th>\n",
              "      <td>@ctb1221 yeah  sorry.going to a concert that n...</td>\n",
              "      <td>yeah sorry going to a concert that night non r...</td>\n",
              "    </tr>\n",
              "    <tr>\n",
              "      <th>99967</th>\n",
              "      <td>@ctcash @buildingateam @diabetescure @chocolat...</td>\n",
              "      <td>thanks for spreading the word for diabetes in ...</td>\n",
              "    </tr>\n",
              "    <tr>\n",
              "      <th>99968</th>\n",
              "      <td>@ctdesign87 im so glad you went to china town ...</td>\n",
              "      <td>i am so glad you went to china town again i ac...</td>\n",
              "    </tr>\n",
              "    <tr>\n",
              "      <th>99969</th>\n",
              "      <td>@CTerry1985  Sorry</td>\n",
              "      <td>sorry</td>\n",
              "    </tr>\n",
              "    <tr>\n",
              "      <th>99970</th>\n",
              "      <td>@CTerry1985 damn it, dont have sky</td>\n",
              "      <td>damn it dont have sky</td>\n",
              "    </tr>\n",
              "    <tr>\n",
              "      <th>99971</th>\n",
              "      <td>@CTerry1985 That's the thing; the new raft of ...</td>\n",
              "      <td>that is the thing the new raft of star wars fi...</td>\n",
              "    </tr>\n",
              "    <tr>\n",
              "      <th>99972</th>\n",
              "      <td>@cthagod</td>\n",
              "      <td></td>\n",
              "    </tr>\n",
              "    <tr>\n",
              "      <th>99973</th>\n",
              "      <td>@ctham  #FollowFriday</td>\n",
              "      <td>folowfriday</td>\n",
              "    </tr>\n",
              "    <tr>\n",
              "      <th>99974</th>\n",
              "      <td>@ctham #awaresg You are not wrong. But from a ...</td>\n",
              "      <td>awaresg you are not wrong but from a my own ma...</td>\n",
              "    </tr>\n",
              "    <tr>\n",
              "      <th>99975</th>\n",
              "      <td>@ctham @mommyfizz cuz you big burly man.  haha...</td>\n",
              "      <td>cuz you big burly man hahahahahahahahaha</td>\n",
              "    </tr>\n",
              "    <tr>\n",
              "      <th>99976</th>\n",
              "      <td>@ctham @Wilsurn Trying to get a wider range of...</td>\n",
              "      <td>trying to get a wider range of shirts to suit ...</td>\n",
              "    </tr>\n",
              "    <tr>\n",
              "      <th>99977</th>\n",
              "      <td>@ctham Haha I love the passion in your support</td>\n",
              "      <td>haha i love the passion in your support</td>\n",
              "    </tr>\n",
              "    <tr>\n",
              "      <th>99978</th>\n",
              "      <td>@cthulhullahoop That sucks...I like living in ...</td>\n",
              "      <td>that sucks i like living in copersvile i do no...</td>\n",
              "    </tr>\n",
              "    <tr>\n",
              "      <th>99979</th>\n",
              "      <td>@cunningstunts till i can go home been here ti...</td>\n",
              "      <td>till i can go home been here till saturday x</td>\n",
              "    </tr>\n",
              "    <tr>\n",
              "      <th>99980</th>\n",
              "      <td>@cunningstunts22 afternoon jim hows you  x</td>\n",
              "      <td>afternoon ji am hows you x</td>\n",
              "    </tr>\n",
              "    <tr>\n",
              "      <th>99981</th>\n",
              "      <td>@cup_a_tea The foot is really bad. Like the wo...</td>\n",
              "      <td>a tea the foot is really bad like the worst it...</td>\n",
              "    </tr>\n",
              "    <tr>\n",
              "      <th>99982</th>\n",
              "      <td>@Cup_Of_Katy Have fun doing health &amp;amp; safet...</td>\n",
              "      <td>of katy have fun doing health amp safety s jus...</td>\n",
              "    </tr>\n",
              "    <tr>\n",
              "      <th>99983</th>\n",
              "      <td>@cupati It took me waaay too long to get your ...</td>\n",
              "      <td>it took me way too long to get your message ab...</td>\n",
              "    </tr>\n",
              "    <tr>\n",
              "      <th>99984</th>\n",
              "      <td>@Cupcake  seems like a repeating problem   hop...</td>\n",
              "      <td>seems like a repeating problem hope you are ab...</td>\n",
              "    </tr>\n",
              "    <tr>\n",
              "      <th>99985</th>\n",
              "      <td>@cupcake__ arrrr we both replied to each other...</td>\n",
              "      <td>ar we both replied to each other over differen...</td>\n",
              "    </tr>\n",
              "    <tr>\n",
              "      <th>99986</th>\n",
              "      <td>@CuPcAkE_2120 ya i thought so</td>\n",
              "      <td>ya i thought so</td>\n",
              "    </tr>\n",
              "    <tr>\n",
              "      <th>99987</th>\n",
              "      <td>@Cupcake_Dollie Yes. Yes. I'm glad you had mor...</td>\n",
              "      <td>dolie yes yes i m glad you had more fun with me</td>\n",
              "    </tr>\n",
              "    <tr>\n",
              "      <th>99988</th>\n",
              "      <td>@cupcake_kayla haha yes you do</td>\n",
              "      <td>kayla haha yes you do</td>\n",
              "    </tr>\n",
              "  </tbody>\n",
              "</table>\n",
              "<p>99989 rows × 2 columns</p>\n",
              "</div>"
            ],
            "text/plain": [
              "                                           SentimentText  \\\n",
              "0                           is so sad for my APL frie...   \n",
              "1                         I missed the New Moon trail...   \n",
              "2                                omg its already 7:30 :O   \n",
              "3                .. Omgaga. Im sooo  im gunna CRy. I'...   \n",
              "4               i think mi bf is cheating on me!!!   ...   \n",
              "5                      or i just worry too much?           \n",
              "6                     Juuuuuuuuuuuuuuuuussssst Chillin!!   \n",
              "7             Sunny Again        Work Tomorrow  :-|  ...   \n",
              "8            handed in my uniform today . i miss you ...   \n",
              "9               hmmmm.... i wonder how she my number @-)   \n",
              "10                         I must think about positive..   \n",
              "11           thanks to all the haters up in my face a...   \n",
              "12                        this weekend has sucked so far   \n",
              "13                jb isnt showing in australia any more!   \n",
              "14                                  ok thats it you win.   \n",
              "15         &lt;-------- This is the way i feel right ...   \n",
              "16         awhhe man.... I'm completely useless rt no...   \n",
              "17         Feeling strangely fine. Now I'm gonna go l...   \n",
              "18          HUGE roll of thunder just now...SO scary!!!!   \n",
              "19         I just cut my beard off. It's only been gr...   \n",
              "20                                  Very sad about Iran.   \n",
              "21                                         wompppp wompp   \n",
              "22         You're the only one who can see this cause...   \n",
              "23        &lt;---Sad level is 3. I was writing a mass...   \n",
              "24        ...  Headed to Hospitol : Had to pull out o...   \n",
              "25        BoRinG   ): whats wrong with him??     Plea...   \n",
              "26        can't be bothered. i wish i could spend the...   \n",
              "27        Feeeling like shit right now. I really want...   \n",
              "28                 goodbye exams, HELLO ALCOHOL TONIGHT    \n",
              "29        I didn't realize it was THAT deep. Geez giv...   \n",
              "...                                                  ...   \n",
              "99959  @CT415 @UCLA_Bruin  it made me sad too!  that ...   \n",
              "99960  @CT415 I agree. I think they all have that fet...   \n",
              "99961  @ct415 I hope it's not too serious of an injur...   \n",
              "99962  @ctabita if it's any consolation, this weekend...   \n",
              "99963                        @ctayah got your back, yo!    \n",
              "99964  @ctaylor0127 I can't wait to see that movie. E...   \n",
              "99965  @ctaylor10127 @smelby I am excited and a littl...   \n",
              "99966  @ctb1221 yeah  sorry.going to a concert that n...   \n",
              "99967  @ctcash @buildingateam @diabetescure @chocolat...   \n",
              "99968  @ctdesign87 im so glad you went to china town ...   \n",
              "99969                                 @CTerry1985  Sorry   \n",
              "99970                @CTerry1985 damn it, dont have sky    \n",
              "99971  @CTerry1985 That's the thing; the new raft of ...   \n",
              "99972                                          @cthagod    \n",
              "99973                              @ctham  #FollowFriday   \n",
              "99974  @ctham #awaresg You are not wrong. But from a ...   \n",
              "99975  @ctham @mommyfizz cuz you big burly man.  haha...   \n",
              "99976  @ctham @Wilsurn Trying to get a wider range of...   \n",
              "99977    @ctham Haha I love the passion in your support    \n",
              "99978  @cthulhullahoop That sucks...I like living in ...   \n",
              "99979  @cunningstunts till i can go home been here ti...   \n",
              "99980         @cunningstunts22 afternoon jim hows you  x   \n",
              "99981  @cup_a_tea The foot is really bad. Like the wo...   \n",
              "99982  @Cup_Of_Katy Have fun doing health &amp; safet...   \n",
              "99983  @cupati It took me waaay too long to get your ...   \n",
              "99984  @Cupcake  seems like a repeating problem   hop...   \n",
              "99985  @cupcake__ arrrr we both replied to each other...   \n",
              "99986                     @CuPcAkE_2120 ya i thought so    \n",
              "99987  @Cupcake_Dollie Yes. Yes. I'm glad you had mor...   \n",
              "99988                    @cupcake_kayla haha yes you do    \n",
              "\n",
              "                                                 cleaned  \n",
              "0                            is so sad for my apl friend  \n",
              "1                          i missed the new moon trailer  \n",
              "2                                    omg it is already o  \n",
              "3      omgaga im so i am guna cry i have been at this...  \n",
              "4                    i think mi bf is cheating on me t t  \n",
              "5                               or i just worry too much  \n",
              "6                                            just chilin  \n",
              "7                   sunny again work tomorrow tv tonight  \n",
              "8          handed in my uniform today i miss you already  \n",
              "9                          hm i wonder how she my number  \n",
              "10                           i must think about positive  \n",
              "11        thanks to all the haters up in my face all day  \n",
              "12                        this weekend has sucked so far  \n",
              "13               jb is not showing in australia any more  \n",
              "14                                 ok that is it you win  \n",
              "15                   lt this is the way i feel right now  \n",
              "16     awhe man i m completely useless rt now funny a...  \n",
              "17     feeling strangely fine now i m gona go listen ...  \n",
              "18                huge roll of thunder just now so scary  \n",
              "19     i just cut my beard off it is only been growin...  \n",
              "20                                   very sad about iran  \n",
              "21                                             womp womp  \n",
              "22     you are the only one who can see this cause no...  \n",
              "23     lt sad level is i was writing a massive blog t...  \n",
              "24     headed to hospitol had to pull out of the golf...  \n",
              "25          boring whats wrong with hi am please tell me  \n",
              "26     can not be bothered i wish i could spend the r...  \n",
              "27     feeling like shit right now i really want to s...  \n",
              "28                   goodbye exams hello alcohol tonight  \n",
              "29     i did not realize it was that deep gez give a ...  \n",
              "...                                                  ...  \n",
              "99959  bruin it made me sad too that means no more al...  \n",
              "99960      i agree i think they all have that fetish too  \n",
              "99961  i hope it is not too serious of an injury i m ...  \n",
              "99962  if it is any consolation this weekend is not q...  \n",
              "99963                                   got your back yo  \n",
              "99964             i can not wait to see that movie enjoy  \n",
              "99965   i am excited and a little nervous i can not wait  \n",
              "99966  yeah sorry going to a concert that night non r...  \n",
              "99967  thanks for spreading the word for diabetes in ...  \n",
              "99968  i am so glad you went to china town again i ac...  \n",
              "99969                                              sorry  \n",
              "99970                              damn it dont have sky  \n",
              "99971  that is the thing the new raft of star wars fi...  \n",
              "99972                                                     \n",
              "99973                                        folowfriday  \n",
              "99974  awaresg you are not wrong but from a my own ma...  \n",
              "99975           cuz you big burly man hahahahahahahahaha  \n",
              "99976  trying to get a wider range of shirts to suit ...  \n",
              "99977            haha i love the passion in your support  \n",
              "99978  that sucks i like living in copersvile i do no...  \n",
              "99979       till i can go home been here till saturday x  \n",
              "99980                         afternoon ji am hows you x  \n",
              "99981  a tea the foot is really bad like the worst it...  \n",
              "99982  of katy have fun doing health amp safety s jus...  \n",
              "99983  it took me way too long to get your message ab...  \n",
              "99984  seems like a repeating problem hope you are ab...  \n",
              "99985  ar we both replied to each other over differen...  \n",
              "99986                                    ya i thought so  \n",
              "99987    dolie yes yes i m glad you had more fun with me  \n",
              "99988                              kayla haha yes you do  \n",
              "\n",
              "[99989 rows x 2 columns]"
            ]
          },
          "metadata": {
            "tags": []
          },
          "execution_count": 23
        }
      ]
    },
    {
      "metadata": {
        "id": "HtBshazUkLiG",
        "colab_type": "code",
        "colab": {}
      },
      "cell_type": "code",
      "source": [
        "# Splitting the dataset into the Training set and Test set\n",
        "from sklearn.model_selection import train_test_split\n",
        "X_train, X_test, y_train, y_test = train_test_split(X, y, test_size = 0.2, random_state = 0)"
      ],
      "execution_count": 0,
      "outputs": []
    },
    {
      "metadata": {
        "id": "w8DZbUOwGLaC",
        "colab_type": "code",
        "colab": {}
      },
      "cell_type": "code",
      "source": [
        ""
      ],
      "execution_count": 0,
      "outputs": []
    },
    {
      "metadata": {
        "id": "ljhwo7Ucugnf",
        "colab_type": "code",
        "colab": {}
      },
      "cell_type": "code",
      "source": [
        "y_train"
      ],
      "execution_count": 0,
      "outputs": []
    },
    {
      "metadata": {
        "id": "MQzMo_QUmqMP",
        "colab_type": "code",
        "colab": {}
      },
      "cell_type": "code",
      "source": [
        "# Feature Scaling\n",
        "from sklearn.preprocessing import StandardScaler\n",
        "sc = StandardScaler()\n",
        "X_train = sc.fit_transform(X_train)\n",
        "X_test = sc.transform(X_test)"
      ],
      "execution_count": 0,
      "outputs": []
    },
    {
      "metadata": {
        "colab_type": "code",
        "id": "Fbz62gs0oIDt",
        "colab": {}
      },
      "cell_type": "code",
      "source": [
        "# Importing the Keras libraries and packages\n",
        "import keras\n",
        "from keras.models import Sequential\n",
        "from keras.layers import Dense\n",
        "from keras.layers import Dropout"
      ],
      "execution_count": 0,
      "outputs": []
    },
    {
      "metadata": {
        "id": "kb7SVXIloI1s",
        "colab_type": "code",
        "colab": {}
      },
      "cell_type": "code",
      "source": [
        "# Initialising the ANN\n",
        "classifier = Sequential()\n",
        "\n",
        "# Adding the input layer and the first hidden layer\n",
        "classifier.add(Dense(output_dim=6 , init = 'uniform', activation = 'relu', input_dim = 11))\n",
        "classifier.add(Dropout(p=0.1))"
      ],
      "execution_count": 0,
      "outputs": []
    },
    {
      "metadata": {
        "id": "MHOABt5-q_ZZ",
        "colab_type": "code",
        "colab": {}
      },
      "cell_type": "code",
      "source": [
        "# Adding the second hidden layer\n",
        "classifier.add(Dense(output_dim = 6, kernel_initializer = 'uniform', activation = 'relu'))\n",
        "classifier.add(Dropout(p=0.1))"
      ],
      "execution_count": 0,
      "outputs": []
    },
    {
      "metadata": {
        "id": "em6O60sxrsS7",
        "colab_type": "code",
        "colab": {}
      },
      "cell_type": "code",
      "source": [
        "# Adding the output layer\n",
        "classifier.add(Dense(output_dim = 1, kernel_initializer = 'uniform', activation = 'sigmoid'))"
      ],
      "execution_count": 0,
      "outputs": []
    },
    {
      "metadata": {
        "id": "Djnhp8dYreBp",
        "colab_type": "code",
        "colab": {}
      },
      "cell_type": "code",
      "source": [
        "# Compiling the ANN\n",
        "classifier.compile(optimizer = 'adam', loss = 'binary_crossentropy', metrics = ['accuracy'])"
      ],
      "execution_count": 0,
      "outputs": []
    },
    {
      "metadata": {
        "id": "KfL6JDQ4tedL",
        "colab_type": "code",
        "colab": {}
      },
      "cell_type": "code",
      "source": [
        "# Fitting the ANN to the Training set\n",
        "classifier.fit(X_train, y_train, batch_size = 10, epochs = 100)"
      ],
      "execution_count": 0,
      "outputs": []
    },
    {
      "metadata": {
        "id": "b78ZE_c2dkoG",
        "colab_type": "code",
        "colab": {}
      },
      "cell_type": "code",
      "source": [
        "# Fitting classifier to the Training set\n",
        "# Create your classifier here\n",
        "\n",
        "# Predicting the Test set results\n",
        "y_pred = classifier.predict(X_test)\n",
        "\n",
        "y_pred=(y_pred > 0.5 )"
      ],
      "execution_count": 0,
      "outputs": []
    },
    {
      "metadata": {
        "id": "vL04dvIZcWud",
        "colab_type": "code",
        "colab": {}
      },
      "cell_type": "code",
      "source": [
        "y_pred"
      ],
      "execution_count": 0,
      "outputs": []
    },
    {
      "metadata": {
        "id": "DapYQmSdepWp",
        "colab_type": "code",
        "colab": {}
      },
      "cell_type": "code",
      "source": [
        "# Making the Confusion Matrix\n",
        "from sklearn.metrics import confusion_matrix\n",
        "cm = confusion_matrix(y_test, y_pred)"
      ],
      "execution_count": 0,
      "outputs": []
    },
    {
      "metadata": {
        "id": "gv1hc3Nceufp",
        "colab_type": "code",
        "colab": {}
      },
      "cell_type": "code",
      "source": [
        "cm"
      ],
      "execution_count": 0,
      "outputs": []
    },
    {
      "metadata": {
        "id": "5AkAbETgevfK",
        "colab_type": "code",
        "outputId": "93e8930f-f7ec-4208-8a50-11265c336804",
        "colab": {
          "base_uri": "https://localhost:8080/",
          "height": 34
        }
      },
      "cell_type": "code",
      "source": [
        "(1934+176)*100/(1934+176+57+333)"
      ],
      "execution_count": 0,
      "outputs": [
        {
          "output_type": "execute_result",
          "data": {
            "text/plain": [
              "84.4"
            ]
          },
          "metadata": {
            "tags": []
          },
          "execution_count": 33
        }
      ]
    },
    {
      "metadata": {
        "id": "tKxzUrjNfNu8",
        "colab_type": "code",
        "colab": {}
      },
      "cell_type": "code",
      "source": [
        "from keras.wrappers.scikit_learn import KerasClassifier"
      ],
      "execution_count": 0,
      "outputs": []
    },
    {
      "metadata": {
        "id": "RJev5ROriVpL",
        "colab_type": "code",
        "colab": {}
      },
      "cell_type": "code",
      "source": [
        "from sklearn.model_selection import cross_val_score"
      ],
      "execution_count": 0,
      "outputs": []
    },
    {
      "metadata": {
        "id": "-CCL4HRGit3b",
        "colab_type": "code",
        "colab": {}
      },
      "cell_type": "code",
      "source": [
        "def build_classifier():\n",
        "    classifier = Sequential()\n",
        "# Adding the input layer and the first hidden layer\n",
        "    classifier.add(Dense(output_dim=6 , init = 'uniform', activation = 'relu', input_dim = 11))\n",
        "  # Adding the second hidden layer\n",
        "    classifier.add(Dense(output_dim = 6, kernel_initializer = 'uniform', activation = 'relu'))\n",
        "    # Adding the output layer\n",
        "    classifier.add(Dense(output_dim = 1, kernel_initializer = 'uniform', activation = 'sigmoid'))\n",
        "    # Compiling the ANN\n",
        "    classifier.compile(optimizer = 'adam', loss = 'binary_crossentropy', metrics = ['accuracy'])\n",
        "    return classifier"
      ],
      "execution_count": 0,
      "outputs": []
    },
    {
      "metadata": {
        "id": "gjJHUj6-j6yv",
        "colab_type": "code",
        "colab": {}
      },
      "cell_type": "code",
      "source": [
        "classifier=KerasClassifier(build_fn=build_classifier,batch_size=10,nb_epoch=100)\n",
        "accuracies = cross_val_score(estimator=classifier, X=X_train, y=y_train,cv=10,n_jobs=-1)"
      ],
      "execution_count": 0,
      "outputs": []
    },
    {
      "metadata": {
        "id": "xzO20MarmvZd",
        "colab_type": "code",
        "outputId": "20d41dc1-70c6-4f2b-8c77-920c7ce0fb6e",
        "colab": {
          "base_uri": "https://localhost:8080/",
          "height": 52
        }
      },
      "cell_type": "code",
      "source": [
        "print(accuracies.mean())\n",
        "print(accuracies.std())"
      ],
      "execution_count": 0,
      "outputs": [
        {
          "output_type": "stream",
          "text": [
            "0.7959999969601632\n",
            "0.010105690620981692\n"
          ],
          "name": "stdout"
        }
      ]
    },
    {
      "metadata": {
        "id": "4CSfBHGmm17g",
        "colab_type": "code",
        "outputId": "fce31dfa-6d57-4bab-f39b-69a859cd15b9",
        "colab": {
          "base_uri": "https://localhost:8080/",
          "height": 34
        }
      },
      "cell_type": "code",
      "source": [
        "mean"
      ],
      "execution_count": 0,
      "outputs": [
        {
          "output_type": "execute_result",
          "data": {
            "text/plain": [
              "0.7971999967892964"
            ]
          },
          "metadata": {
            "tags": []
          },
          "execution_count": 55
        }
      ]
    },
    {
      "metadata": {
        "id": "vAs8j8DWnMyV",
        "colab_type": "code",
        "colab": {}
      },
      "cell_type": "code",
      "source": [
        ""
      ],
      "execution_count": 0,
      "outputs": []
    }
  ]
}